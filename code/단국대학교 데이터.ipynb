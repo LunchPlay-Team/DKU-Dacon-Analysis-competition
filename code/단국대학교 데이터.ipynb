{
 "cells": [
  {
   "cell_type": "markdown",
   "metadata": {},
   "source": [
    "# Library"
   ]
  },
  {
   "cell_type": "code",
   "execution_count": 41,
   "metadata": {},
   "outputs": [],
   "source": [
    "import numpy as np\n",
    "import xgboost as xgb\n",
    "import pandas as pd\n",
    "from sklearn.metrics import accuracy_score\n",
    "from sklearn.model_selection import train_test_split\n",
    "from sklearn.metrics import mean_squared_error\n",
    "from xgboost import plot_importance\n",
    "import seaborn as sns\n",
    "import matplotlib.pyplot as plt\n",
    "from sklearn.metrics import confusion_matrix\n",
    "\n",
    "from sklearn.preprocessing import StandardScaler, RobustScaler # 데이터 표준화\n",
    "\n",
    "%matplotlib inline"
   ]
  },
  {
   "cell_type": "markdown",
   "metadata": {},
   "source": [
    "# Data Load"
   ]
  },
  {
   "cell_type": "code",
   "execution_count": 73,
   "metadata": {},
   "outputs": [
    {
     "data": {
      "text/html": [
       "<div>\n",
       "<style scoped>\n",
       "    .dataframe tbody tr th:only-of-type {\n",
       "        vertical-align: middle;\n",
       "    }\n",
       "\n",
       "    .dataframe tbody tr th {\n",
       "        vertical-align: top;\n",
       "    }\n",
       "\n",
       "    .dataframe thead th {\n",
       "        text-align: right;\n",
       "    }\n",
       "</style>\n",
       "<table border=\"1\" class=\"dataframe\">\n",
       "  <thead>\n",
       "    <tr style=\"text-align: right;\">\n",
       "      <th></th>\n",
       "      <th>u</th>\n",
       "      <th>g</th>\n",
       "      <th>r</th>\n",
       "      <th>i</th>\n",
       "      <th>z</th>\n",
       "      <th>redshift</th>\n",
       "      <th>dered_u</th>\n",
       "      <th>dered_g</th>\n",
       "      <th>dered_r</th>\n",
       "      <th>dered_i</th>\n",
       "      <th>dered_z</th>\n",
       "      <th>nObserve</th>\n",
       "      <th>nDetect</th>\n",
       "      <th>airmass_u</th>\n",
       "      <th>airmass_g</th>\n",
       "      <th>airmass_r</th>\n",
       "      <th>airmass_i</th>\n",
       "      <th>airmass_z</th>\n",
       "      <th>class</th>\n",
       "    </tr>\n",
       "    <tr>\n",
       "      <th>id</th>\n",
       "      <th></th>\n",
       "      <th></th>\n",
       "      <th></th>\n",
       "      <th></th>\n",
       "      <th></th>\n",
       "      <th></th>\n",
       "      <th></th>\n",
       "      <th></th>\n",
       "      <th></th>\n",
       "      <th></th>\n",
       "      <th></th>\n",
       "      <th></th>\n",
       "      <th></th>\n",
       "      <th></th>\n",
       "      <th></th>\n",
       "      <th></th>\n",
       "      <th></th>\n",
       "      <th></th>\n",
       "      <th></th>\n",
       "    </tr>\n",
       "  </thead>\n",
       "  <tbody>\n",
       "    <tr>\n",
       "      <th>0</th>\n",
       "      <td>23.263956</td>\n",
       "      <td>20.336773</td>\n",
       "      <td>19.009500</td>\n",
       "      <td>17.672439</td>\n",
       "      <td>16.939607</td>\n",
       "      <td>-0.000081</td>\n",
       "      <td>23.12426</td>\n",
       "      <td>20.25779</td>\n",
       "      <td>18.95512</td>\n",
       "      <td>17.63211</td>\n",
       "      <td>16.90894</td>\n",
       "      <td>18</td>\n",
       "      <td>18</td>\n",
       "      <td>1.189764</td>\n",
       "      <td>1.190681</td>\n",
       "      <td>1.188979</td>\n",
       "      <td>1.189355</td>\n",
       "      <td>1.190206</td>\n",
       "      <td>0</td>\n",
       "    </tr>\n",
       "    <tr>\n",
       "      <th>1</th>\n",
       "      <td>15.052147</td>\n",
       "      <td>14.061969</td>\n",
       "      <td>13.452418</td>\n",
       "      <td>13.268450</td>\n",
       "      <td>13.168941</td>\n",
       "      <td>0.004506</td>\n",
       "      <td>14.96642</td>\n",
       "      <td>14.00452</td>\n",
       "      <td>13.41139</td>\n",
       "      <td>13.23625</td>\n",
       "      <td>13.13468</td>\n",
       "      <td>1</td>\n",
       "      <td>1</td>\n",
       "      <td>1.253254</td>\n",
       "      <td>1.257836</td>\n",
       "      <td>1.248762</td>\n",
       "      <td>1.250997</td>\n",
       "      <td>1.255533</td>\n",
       "      <td>1</td>\n",
       "    </tr>\n",
       "    <tr>\n",
       "      <th>2</th>\n",
       "      <td>16.786385</td>\n",
       "      <td>15.825426</td>\n",
       "      <td>15.536318</td>\n",
       "      <td>15.393535</td>\n",
       "      <td>15.350032</td>\n",
       "      <td>0.000472</td>\n",
       "      <td>16.60765</td>\n",
       "      <td>15.68659</td>\n",
       "      <td>15.44004</td>\n",
       "      <td>15.32173</td>\n",
       "      <td>15.29608</td>\n",
       "      <td>2</td>\n",
       "      <td>2</td>\n",
       "      <td>1.022499</td>\n",
       "      <td>1.024105</td>\n",
       "      <td>1.020983</td>\n",
       "      <td>1.021730</td>\n",
       "      <td>1.023291</td>\n",
       "      <td>0</td>\n",
       "    </tr>\n",
       "    <tr>\n",
       "      <th>3</th>\n",
       "      <td>25.660638</td>\n",
       "      <td>21.188727</td>\n",
       "      <td>20.221158</td>\n",
       "      <td>19.894949</td>\n",
       "      <td>19.634649</td>\n",
       "      <td>0.000006</td>\n",
       "      <td>25.35365</td>\n",
       "      <td>20.99465</td>\n",
       "      <td>20.08727</td>\n",
       "      <td>19.79465</td>\n",
       "      <td>19.55518</td>\n",
       "      <td>4</td>\n",
       "      <td>3</td>\n",
       "      <td>1.205399</td>\n",
       "      <td>1.206058</td>\n",
       "      <td>1.204874</td>\n",
       "      <td>1.205120</td>\n",
       "      <td>1.205712</td>\n",
       "      <td>0</td>\n",
       "    </tr>\n",
       "    <tr>\n",
       "      <th>4</th>\n",
       "      <td>24.453429</td>\n",
       "      <td>20.699170</td>\n",
       "      <td>19.042368</td>\n",
       "      <td>18.324152</td>\n",
       "      <td>17.982649</td>\n",
       "      <td>-0.000033</td>\n",
       "      <td>23.77140</td>\n",
       "      <td>20.43384</td>\n",
       "      <td>18.86299</td>\n",
       "      <td>18.19028</td>\n",
       "      <td>17.87592</td>\n",
       "      <td>13</td>\n",
       "      <td>12</td>\n",
       "      <td>1.193946</td>\n",
       "      <td>1.194285</td>\n",
       "      <td>1.193738</td>\n",
       "      <td>1.193826</td>\n",
       "      <td>1.194099</td>\n",
       "      <td>0</td>\n",
       "    </tr>\n",
       "    <tr>\n",
       "      <th>...</th>\n",
       "      <td>...</td>\n",
       "      <td>...</td>\n",
       "      <td>...</td>\n",
       "      <td>...</td>\n",
       "      <td>...</td>\n",
       "      <td>...</td>\n",
       "      <td>...</td>\n",
       "      <td>...</td>\n",
       "      <td>...</td>\n",
       "      <td>...</td>\n",
       "      <td>...</td>\n",
       "      <td>...</td>\n",
       "      <td>...</td>\n",
       "      <td>...</td>\n",
       "      <td>...</td>\n",
       "      <td>...</td>\n",
       "      <td>...</td>\n",
       "      <td>...</td>\n",
       "      <td>...</td>\n",
       "    </tr>\n",
       "    <tr>\n",
       "      <th>319995</th>\n",
       "      <td>18.365648</td>\n",
       "      <td>17.240883</td>\n",
       "      <td>16.773898</td>\n",
       "      <td>16.484970</td>\n",
       "      <td>16.340403</td>\n",
       "      <td>0.051988</td>\n",
       "      <td>18.13280</td>\n",
       "      <td>17.04065</td>\n",
       "      <td>16.63744</td>\n",
       "      <td>16.38606</td>\n",
       "      <td>16.28741</td>\n",
       "      <td>2</td>\n",
       "      <td>2</td>\n",
       "      <td>1.093010</td>\n",
       "      <td>1.088828</td>\n",
       "      <td>1.097310</td>\n",
       "      <td>1.095145</td>\n",
       "      <td>1.090905</td>\n",
       "      <td>2</td>\n",
       "    </tr>\n",
       "    <tr>\n",
       "      <th>319996</th>\n",
       "      <td>18.685639</td>\n",
       "      <td>17.665802</td>\n",
       "      <td>17.190434</td>\n",
       "      <td>16.816858</td>\n",
       "      <td>16.636688</td>\n",
       "      <td>0.087261</td>\n",
       "      <td>18.52074</td>\n",
       "      <td>17.51310</td>\n",
       "      <td>17.08711</td>\n",
       "      <td>16.74363</td>\n",
       "      <td>16.60173</td>\n",
       "      <td>2</td>\n",
       "      <td>2</td>\n",
       "      <td>1.051689</td>\n",
       "      <td>1.050838</td>\n",
       "      <td>1.052640</td>\n",
       "      <td>1.052152</td>\n",
       "      <td>1.051252</td>\n",
       "      <td>1</td>\n",
       "    </tr>\n",
       "    <tr>\n",
       "      <th>319997</th>\n",
       "      <td>21.188972</td>\n",
       "      <td>18.423357</td>\n",
       "      <td>17.295610</td>\n",
       "      <td>16.901072</td>\n",
       "      <td>16.684127</td>\n",
       "      <td>-0.000010</td>\n",
       "      <td>20.98896</td>\n",
       "      <td>18.30760</td>\n",
       "      <td>17.21518</td>\n",
       "      <td>16.84030</td>\n",
       "      <td>16.63555</td>\n",
       "      <td>31</td>\n",
       "      <td>30</td>\n",
       "      <td>1.193259</td>\n",
       "      <td>1.194140</td>\n",
       "      <td>1.192509</td>\n",
       "      <td>1.192868</td>\n",
       "      <td>1.193683</td>\n",
       "      <td>0</td>\n",
       "    </tr>\n",
       "    <tr>\n",
       "      <th>319998</th>\n",
       "      <td>18.847187</td>\n",
       "      <td>17.318605</td>\n",
       "      <td>16.505729</td>\n",
       "      <td>16.180571</td>\n",
       "      <td>15.911624</td>\n",
       "      <td>-0.000045</td>\n",
       "      <td>16.38998</td>\n",
       "      <td>15.40578</td>\n",
       "      <td>15.18229</td>\n",
       "      <td>15.19693</td>\n",
       "      <td>15.17935</td>\n",
       "      <td>1</td>\n",
       "      <td>1</td>\n",
       "      <td>1.172458</td>\n",
       "      <td>1.172561</td>\n",
       "      <td>1.172481</td>\n",
       "      <td>1.172454</td>\n",
       "      <td>1.172493</td>\n",
       "      <td>0</td>\n",
       "    </tr>\n",
       "    <tr>\n",
       "      <th>319999</th>\n",
       "      <td>19.860438</td>\n",
       "      <td>18.819866</td>\n",
       "      <td>18.515579</td>\n",
       "      <td>18.414884</td>\n",
       "      <td>18.307998</td>\n",
       "      <td>-0.000965</td>\n",
       "      <td>19.82565</td>\n",
       "      <td>18.78191</td>\n",
       "      <td>18.49081</td>\n",
       "      <td>18.39869</td>\n",
       "      <td>18.30977</td>\n",
       "      <td>1</td>\n",
       "      <td>1</td>\n",
       "      <td>1.057076</td>\n",
       "      <td>1.056240</td>\n",
       "      <td>1.057976</td>\n",
       "      <td>1.057518</td>\n",
       "      <td>1.056650</td>\n",
       "      <td>0</td>\n",
       "    </tr>\n",
       "  </tbody>\n",
       "</table>\n",
       "<p>320000 rows × 19 columns</p>\n",
       "</div>"
      ],
      "text/plain": [
       "                u          g          r          i          z  redshift  \\\n",
       "id                                                                        \n",
       "0       23.263956  20.336773  19.009500  17.672439  16.939607 -0.000081   \n",
       "1       15.052147  14.061969  13.452418  13.268450  13.168941  0.004506   \n",
       "2       16.786385  15.825426  15.536318  15.393535  15.350032  0.000472   \n",
       "3       25.660638  21.188727  20.221158  19.894949  19.634649  0.000006   \n",
       "4       24.453429  20.699170  19.042368  18.324152  17.982649 -0.000033   \n",
       "...           ...        ...        ...        ...        ...       ...   \n",
       "319995  18.365648  17.240883  16.773898  16.484970  16.340403  0.051988   \n",
       "319996  18.685639  17.665802  17.190434  16.816858  16.636688  0.087261   \n",
       "319997  21.188972  18.423357  17.295610  16.901072  16.684127 -0.000010   \n",
       "319998  18.847187  17.318605  16.505729  16.180571  15.911624 -0.000045   \n",
       "319999  19.860438  18.819866  18.515579  18.414884  18.307998 -0.000965   \n",
       "\n",
       "         dered_u   dered_g   dered_r   dered_i   dered_z  nObserve  nDetect  \\\n",
       "id                                                                            \n",
       "0       23.12426  20.25779  18.95512  17.63211  16.90894        18       18   \n",
       "1       14.96642  14.00452  13.41139  13.23625  13.13468         1        1   \n",
       "2       16.60765  15.68659  15.44004  15.32173  15.29608         2        2   \n",
       "3       25.35365  20.99465  20.08727  19.79465  19.55518         4        3   \n",
       "4       23.77140  20.43384  18.86299  18.19028  17.87592        13       12   \n",
       "...          ...       ...       ...       ...       ...       ...      ...   \n",
       "319995  18.13280  17.04065  16.63744  16.38606  16.28741         2        2   \n",
       "319996  18.52074  17.51310  17.08711  16.74363  16.60173         2        2   \n",
       "319997  20.98896  18.30760  17.21518  16.84030  16.63555        31       30   \n",
       "319998  16.38998  15.40578  15.18229  15.19693  15.17935         1        1   \n",
       "319999  19.82565  18.78191  18.49081  18.39869  18.30977         1        1   \n",
       "\n",
       "        airmass_u  airmass_g  airmass_r  airmass_i  airmass_z  class  \n",
       "id                                                                    \n",
       "0        1.189764   1.190681   1.188979   1.189355   1.190206      0  \n",
       "1        1.253254   1.257836   1.248762   1.250997   1.255533      1  \n",
       "2        1.022499   1.024105   1.020983   1.021730   1.023291      0  \n",
       "3        1.205399   1.206058   1.204874   1.205120   1.205712      0  \n",
       "4        1.193946   1.194285   1.193738   1.193826   1.194099      0  \n",
       "...           ...        ...        ...        ...        ...    ...  \n",
       "319995   1.093010   1.088828   1.097310   1.095145   1.090905      2  \n",
       "319996   1.051689   1.050838   1.052640   1.052152   1.051252      1  \n",
       "319997   1.193259   1.194140   1.192509   1.192868   1.193683      0  \n",
       "319998   1.172458   1.172561   1.172481   1.172454   1.172493      0  \n",
       "319999   1.057076   1.056240   1.057976   1.057518   1.056650      0  \n",
       "\n",
       "[320000 rows x 19 columns]"
      ]
     },
     "execution_count": 73,
     "metadata": {},
     "output_type": "execute_result"
    }
   ],
   "source": [
    "# 엑셀 파일 불러오기\n",
    "Train_set = pd.read_csv('./data/train.csv', header = 0, index_col =0)\n",
    "Test_set = pd.read_csv('./data/test.csv', header = 0, index_col =0)\n",
    "Submission_set = pd.read_csv('./data/sample_submission.csv', header = 0, index_col = 0)\n",
    "Train_set"
   ]
  },
  {
   "cell_type": "markdown",
   "metadata": {},
   "source": [
    "# Data Preview"
   ]
  },
  {
   "cell_type": "code",
   "execution_count": 4,
   "metadata": {
    "scrolled": true
   },
   "outputs": [
    {
     "name": "stdout",
     "output_type": "stream",
     "text": [
      "<class 'pandas.core.frame.DataFrame'>\n",
      "Int64Index: 320000 entries, 0 to 319999\n",
      "Data columns (total 19 columns):\n",
      "u            320000 non-null float64\n",
      "g            320000 non-null float64\n",
      "r            320000 non-null float64\n",
      "i            320000 non-null float64\n",
      "z            320000 non-null float64\n",
      "redshift     320000 non-null float64\n",
      "dered_u      320000 non-null float64\n",
      "dered_g      320000 non-null float64\n",
      "dered_r      320000 non-null float64\n",
      "dered_i      320000 non-null float64\n",
      "dered_z      320000 non-null float64\n",
      "nObserve     320000 non-null int64\n",
      "nDetect      320000 non-null int64\n",
      "airmass_u    320000 non-null float64\n",
      "airmass_g    320000 non-null float64\n",
      "airmass_r    320000 non-null float64\n",
      "airmass_i    320000 non-null float64\n",
      "airmass_z    320000 non-null float64\n",
      "class        320000 non-null int64\n",
      "dtypes: float64(16), int64(3)\n",
      "memory usage: 48.8 MB\n"
     ]
    }
   ],
   "source": [
    "Train_set.info()"
   ]
  },
  {
   "cell_type": "code",
   "execution_count": 8,
   "metadata": {
    "scrolled": false
   },
   "outputs": [
    {
     "data": {
      "text/html": [
       "<div>\n",
       "<style scoped>\n",
       "    .dataframe tbody tr th:only-of-type {\n",
       "        vertical-align: middle;\n",
       "    }\n",
       "\n",
       "    .dataframe tbody tr th {\n",
       "        vertical-align: top;\n",
       "    }\n",
       "\n",
       "    .dataframe thead th {\n",
       "        text-align: right;\n",
       "    }\n",
       "</style>\n",
       "<table border=\"1\" class=\"dataframe\">\n",
       "  <thead>\n",
       "    <tr style=\"text-align: right;\">\n",
       "      <th></th>\n",
       "      <th>u</th>\n",
       "      <th>g</th>\n",
       "      <th>r</th>\n",
       "      <th>i</th>\n",
       "      <th>z</th>\n",
       "      <th>redshift</th>\n",
       "      <th>dered_u</th>\n",
       "      <th>dered_g</th>\n",
       "      <th>dered_r</th>\n",
       "      <th>dered_i</th>\n",
       "      <th>dered_z</th>\n",
       "      <th>nObserve</th>\n",
       "      <th>nDetect</th>\n",
       "      <th>airmass_u</th>\n",
       "      <th>airmass_g</th>\n",
       "      <th>airmass_r</th>\n",
       "      <th>airmass_i</th>\n",
       "      <th>airmass_z</th>\n",
       "    </tr>\n",
       "  </thead>\n",
       "  <tbody>\n",
       "    <tr>\n",
       "      <th>count</th>\n",
       "      <td>80000.000000</td>\n",
       "      <td>80000.000000</td>\n",
       "      <td>80000.000000</td>\n",
       "      <td>80000.000000</td>\n",
       "      <td>80000.000000</td>\n",
       "      <td>80000.000000</td>\n",
       "      <td>80000.000000</td>\n",
       "      <td>80000.000000</td>\n",
       "      <td>80000.000000</td>\n",
       "      <td>80000.000000</td>\n",
       "      <td>80000.000000</td>\n",
       "      <td>80000.000000</td>\n",
       "      <td>80000.00000</td>\n",
       "      <td>80000.000000</td>\n",
       "      <td>80000.000000</td>\n",
       "      <td>80000.000000</td>\n",
       "      <td>80000.000000</td>\n",
       "      <td>80000.000000</td>\n",
       "    </tr>\n",
       "    <tr>\n",
       "      <th>mean</th>\n",
       "      <td>19.859840</td>\n",
       "      <td>18.437104</td>\n",
       "      <td>17.739743</td>\n",
       "      <td>17.306491</td>\n",
       "      <td>17.148951</td>\n",
       "      <td>0.060083</td>\n",
       "      <td>19.634952</td>\n",
       "      <td>18.263779</td>\n",
       "      <td>17.619340</td>\n",
       "      <td>17.217804</td>\n",
       "      <td>16.870231</td>\n",
       "      <td>6.349950</td>\n",
       "      <td>6.15775</td>\n",
       "      <td>1.175956</td>\n",
       "      <td>1.176733</td>\n",
       "      <td>1.175311</td>\n",
       "      <td>1.175616</td>\n",
       "      <td>1.176326</td>\n",
       "    </tr>\n",
       "    <tr>\n",
       "      <th>std</th>\n",
       "      <td>1.954254</td>\n",
       "      <td>1.702973</td>\n",
       "      <td>1.478590</td>\n",
       "      <td>1.320742</td>\n",
       "      <td>24.643062</td>\n",
       "      <td>0.346845</td>\n",
       "      <td>1.921030</td>\n",
       "      <td>1.665741</td>\n",
       "      <td>1.476002</td>\n",
       "      <td>1.332361</td>\n",
       "      <td>35.436707</td>\n",
       "      <td>8.872794</td>\n",
       "      <td>8.55086</td>\n",
       "      <td>0.116424</td>\n",
       "      <td>0.118197</td>\n",
       "      <td>0.114845</td>\n",
       "      <td>0.115609</td>\n",
       "      <td>0.117285</td>\n",
       "    </tr>\n",
       "    <tr>\n",
       "      <th>min</th>\n",
       "      <td>-0.338524</td>\n",
       "      <td>-51.175280</td>\n",
       "      <td>-5.438650</td>\n",
       "      <td>5.326743</td>\n",
       "      <td>-39.527151</td>\n",
       "      <td>-30.148965</td>\n",
       "      <td>-30.633700</td>\n",
       "      <td>-18.655990</td>\n",
       "      <td>-8.756023</td>\n",
       "      <td>-3.697258</td>\n",
       "      <td>-9999.000000</td>\n",
       "      <td>1.000000</td>\n",
       "      <td>1.00000</td>\n",
       "      <td>1.000143</td>\n",
       "      <td>1.000086</td>\n",
       "      <td>1.000177</td>\n",
       "      <td>1.000150</td>\n",
       "      <td>1.000148</td>\n",
       "    </tr>\n",
       "    <tr>\n",
       "      <th>25%</th>\n",
       "      <td>18.727258</td>\n",
       "      <td>17.477982</td>\n",
       "      <td>16.881969</td>\n",
       "      <td>16.525463</td>\n",
       "      <td>16.288210</td>\n",
       "      <td>0.000034</td>\n",
       "      <td>18.570860</td>\n",
       "      <td>17.352245</td>\n",
       "      <td>16.790630</td>\n",
       "      <td>16.456230</td>\n",
       "      <td>16.230968</td>\n",
       "      <td>1.000000</td>\n",
       "      <td>1.00000</td>\n",
       "      <td>1.088091</td>\n",
       "      <td>1.088294</td>\n",
       "      <td>1.087693</td>\n",
       "      <td>1.087911</td>\n",
       "      <td>1.088175</td>\n",
       "    </tr>\n",
       "    <tr>\n",
       "      <th>50%</th>\n",
       "      <td>19.426062</td>\n",
       "      <td>18.145087</td>\n",
       "      <td>17.529944</td>\n",
       "      <td>17.155994</td>\n",
       "      <td>16.921198</td>\n",
       "      <td>0.047115</td>\n",
       "      <td>19.267415</td>\n",
       "      <td>18.024665</td>\n",
       "      <td>17.448660</td>\n",
       "      <td>17.091210</td>\n",
       "      <td>16.873305</td>\n",
       "      <td>2.000000</td>\n",
       "      <td>2.00000</td>\n",
       "      <td>1.179353</td>\n",
       "      <td>1.179252</td>\n",
       "      <td>1.179373</td>\n",
       "      <td>1.179390</td>\n",
       "      <td>1.179326</td>\n",
       "    </tr>\n",
       "    <tr>\n",
       "      <th>75%</th>\n",
       "      <td>20.434422</td>\n",
       "      <td>19.079345</td>\n",
       "      <td>18.434472</td>\n",
       "      <td>18.007966</td>\n",
       "      <td>17.733311</td>\n",
       "      <td>0.094769</td>\n",
       "      <td>20.199885</td>\n",
       "      <td>18.894768</td>\n",
       "      <td>18.295210</td>\n",
       "      <td>17.910950</td>\n",
       "      <td>17.657802</td>\n",
       "      <td>5.000000</td>\n",
       "      <td>5.00000</td>\n",
       "      <td>1.227833</td>\n",
       "      <td>1.226165</td>\n",
       "      <td>1.229388</td>\n",
       "      <td>1.228922</td>\n",
       "      <td>1.226935</td>\n",
       "    </tr>\n",
       "    <tr>\n",
       "      <th>max</th>\n",
       "      <td>56.847135</td>\n",
       "      <td>94.359125</td>\n",
       "      <td>46.691343</td>\n",
       "      <td>33.025919</td>\n",
       "      <td>6976.392220</td>\n",
       "      <td>46.390495</td>\n",
       "      <td>30.889910</td>\n",
       "      <td>30.952920</td>\n",
       "      <td>31.653620</td>\n",
       "      <td>30.947770</td>\n",
       "      <td>28.644080</td>\n",
       "      <td>44.000000</td>\n",
       "      <td>42.00000</td>\n",
       "      <td>2.050215</td>\n",
       "      <td>2.079697</td>\n",
       "      <td>2.021604</td>\n",
       "      <td>2.035784</td>\n",
       "      <td>2.064815</td>\n",
       "    </tr>\n",
       "  </tbody>\n",
       "</table>\n",
       "</div>"
      ],
      "text/plain": [
       "                  u             g             r             i             z  \\\n",
       "count  80000.000000  80000.000000  80000.000000  80000.000000  80000.000000   \n",
       "mean      19.859840     18.437104     17.739743     17.306491     17.148951   \n",
       "std        1.954254      1.702973      1.478590      1.320742     24.643062   \n",
       "min       -0.338524    -51.175280     -5.438650      5.326743    -39.527151   \n",
       "25%       18.727258     17.477982     16.881969     16.525463     16.288210   \n",
       "50%       19.426062     18.145087     17.529944     17.155994     16.921198   \n",
       "75%       20.434422     19.079345     18.434472     18.007966     17.733311   \n",
       "max       56.847135     94.359125     46.691343     33.025919   6976.392220   \n",
       "\n",
       "           redshift       dered_u       dered_g       dered_r       dered_i  \\\n",
       "count  80000.000000  80000.000000  80000.000000  80000.000000  80000.000000   \n",
       "mean       0.060083     19.634952     18.263779     17.619340     17.217804   \n",
       "std        0.346845      1.921030      1.665741      1.476002      1.332361   \n",
       "min      -30.148965    -30.633700    -18.655990     -8.756023     -3.697258   \n",
       "25%        0.000034     18.570860     17.352245     16.790630     16.456230   \n",
       "50%        0.047115     19.267415     18.024665     17.448660     17.091210   \n",
       "75%        0.094769     20.199885     18.894768     18.295210     17.910950   \n",
       "max       46.390495     30.889910     30.952920     31.653620     30.947770   \n",
       "\n",
       "            dered_z      nObserve      nDetect     airmass_u     airmass_g  \\\n",
       "count  80000.000000  80000.000000  80000.00000  80000.000000  80000.000000   \n",
       "mean      16.870231      6.349950      6.15775      1.175956      1.176733   \n",
       "std       35.436707      8.872794      8.55086      0.116424      0.118197   \n",
       "min    -9999.000000      1.000000      1.00000      1.000143      1.000086   \n",
       "25%       16.230968      1.000000      1.00000      1.088091      1.088294   \n",
       "50%       16.873305      2.000000      2.00000      1.179353      1.179252   \n",
       "75%       17.657802      5.000000      5.00000      1.227833      1.226165   \n",
       "max       28.644080     44.000000     42.00000      2.050215      2.079697   \n",
       "\n",
       "          airmass_r     airmass_i     airmass_z  \n",
       "count  80000.000000  80000.000000  80000.000000  \n",
       "mean       1.175311      1.175616      1.176326  \n",
       "std        0.114845      0.115609      0.117285  \n",
       "min        1.000177      1.000150      1.000148  \n",
       "25%        1.087693      1.087911      1.088175  \n",
       "50%        1.179373      1.179390      1.179326  \n",
       "75%        1.229388      1.228922      1.226935  \n",
       "max        2.021604      2.035784      2.064815  "
      ]
     },
     "execution_count": 8,
     "metadata": {},
     "output_type": "execute_result"
    }
   ],
   "source": [
    "Test_set.describe()"
   ]
  },
  {
   "cell_type": "code",
   "execution_count": 9,
   "metadata": {},
   "outputs": [
    {
     "data": {
      "image/png": "[encoded data removed]",
      "text/plain": [
       "<Figure size 1440x1080 with 20 Axes>"
      ]
     },
     "metadata": {
      "needs_background": "light"
     },
     "output_type": "display_data"
    }
   ],
   "source": [
    "# 데이터 히스토그램\n",
    "Train_set.hist(bins = 50, figsize=(20,15))\n",
    "plt.show()"
   ]
  },
  {
   "cell_type": "code",
   "execution_count": 44,
   "metadata": {},
   "outputs": [],
   "source": [
    "Train_set.hist?"
   ]
  },
  {
   "cell_type": "code",
   "execution_count": 10,
   "metadata": {},
   "outputs": [
    {
     "data": {
      "image/png": "[encoded data removed]",
      "text/plain": [
       "<Figure size 432x288 with 1 Axes>"
      ]
     },
     "metadata": {
      "needs_background": "light"
     },
     "output_type": "display_data"
    },
    {
     "data": {
      "image/png": "[encoded data removed]",
      "text/plain": [
       "<Figure size 432x288 with 1 Axes>"
      ]
     },
     "metadata": {
      "needs_background": "light"
     },
     "output_type": "display_data"
    },
    {
     "data": {
      "image/png": "[encoded data removed]",
      "text/plain": [
       "<Figure size 432x288 with 1 Axes>"
      ]
     },
     "metadata": {
      "needs_background": "light"
     },
     "output_type": "display_data"
    },
    {
     "data": {
      "image/png": "[encoded data removed]",
      "text/plain": [
       "<Figure size 432x288 with 1 Axes>"
      ]
     },
     "metadata": {
      "needs_background": "light"
     },
     "output_type": "display_data"
    },
    {
     "data": {
      "image/png": "[encoded data removed]",
      "text/plain": [
       "<Figure size 432x288 with 1 Axes>"
      ]
     },
     "metadata": {
      "needs_background": "light"
     },
     "output_type": "display_data"
    },
    {
     "data": {
      "image/png": "[encoded data removed]",
      "text/plain": [
       "<Figure size 432x288 with 1 Axes>"
      ]
     },
     "metadata": {
      "needs_background": "light"
     },
     "output_type": "display_data"
    },
    {
     "data": {
      "image/png": "[encoded data removed]",
      "text/plain": [
       "<Figure size 432x288 with 1 Axes>"
      ]
     },
     "metadata": {
      "needs_background": "light"
     },
     "output_type": "display_data"
    },
    {
     "data": {
      "image/png": "[encoded data removed]",
      "text/plain": [
       "<Figure size 432x288 with 1 Axes>"
      ]
     },
     "metadata": {
      "needs_background": "light"
     },
     "output_type": "display_data"
    },
    {
     "data": {
      "image/png": "[encoded data removed]",
      "text/plain": [
       "<Figure size 432x288 with 1 Axes>"
      ]
     },
     "metadata": {
      "needs_background": "light"
     },
     "output_type": "display_data"
    },
    {
     "data": {
      "image/png": "[encoded data removed]",
      "text/plain": [
       "<Figure size 432x288 with 1 Axes>"
      ]
     },
     "metadata": {
      "needs_background": "light"
     },
     "output_type": "display_data"
    },
    {
     "data": {
      "image/png": "[encoded data removed]",
      "text/plain": [
       "<Figure size 432x288 with 1 Axes>"
      ]
     },
     "metadata": {
      "needs_background": "light"
     },
     "output_type": "display_data"
    },
    {
     "data": {
      "image/png": "[encoded data removed]",
      "text/plain": [
       "<Figure size 432x288 with 1 Axes>"
      ]
     },
     "metadata": {
      "needs_background": "light"
     },
     "output_type": "display_data"
    },
    {
     "data": {
      "image/png": "[encoded data removed]",
      "text/plain": [
       "<Figure size 432x288 with 1 Axes>"
      ]
     },
     "metadata": {
      "needs_background": "light"
     },
     "output_type": "display_data"
    },
    {
     "data": {
      "image/png": "[encoded data removed]",
      "text/plain": [
       "<Figure size 432x288 with 1 Axes>"
      ]
     },
     "metadata": {
      "needs_background": "light"
     },
     "output_type": "display_data"
    },
    {
     "data": {
      "image/png": "[encoded data removed]",
      "text/plain": [
       "<Figure size 432x288 with 1 Axes>"
      ]
     },
     "metadata": {
      "needs_background": "light"
     },
     "output_type": "display_data"
    },
    {
     "data": {
      "image/png": "[encoded data removed]",
      "text/plain": [
       "<Figure size 432x288 with 1 Axes>"
      ]
     },
     "metadata": {
      "needs_background": "light"
     },
     "output_type": "display_data"
    },
    {
     "data": {
      "image/png": "[encoded data removed]",
      "text/plain": [
       "<Figure size 432x288 with 1 Axes>"
      ]
     },
     "metadata": {
      "needs_background": "light"
     },
     "output_type": "display_data"
    },
    {
     "data": {
      "image/png": "[encoded data removed]",
      "text/plain": [
       "<Figure size 432x288 with 1 Axes>"
      ]
     },
     "metadata": {
      "needs_background": "light"
     },
     "output_type": "display_data"
    }
   ],
   "source": [
    "for i in list(Train_set.columns)[:-1]:\n",
    "    sns.boxplot(x= Train_set['class'], y = Train_set[i])\n",
    "    plt.show()"
   ]
  },
  {
   "cell_type": "code",
   "execution_count": 49,
   "metadata": {},
   "outputs": [
    {
     "data": {
      "text/html": [
       "<div>\n",
       "<style scoped>\n",
       "    .dataframe tbody tr th:only-of-type {\n",
       "        vertical-align: middle;\n",
       "    }\n",
       "\n",
       "    .dataframe tbody tr th {\n",
       "        vertical-align: top;\n",
       "    }\n",
       "\n",
       "    .dataframe thead th {\n",
       "        text-align: right;\n",
       "    }\n",
       "</style>\n",
       "<table border=\"1\" class=\"dataframe\">\n",
       "  <thead>\n",
       "    <tr style=\"text-align: right;\">\n",
       "      <th></th>\n",
       "      <th>u</th>\n",
       "      <th>g</th>\n",
       "      <th>r</th>\n",
       "      <th>i</th>\n",
       "      <th>z</th>\n",
       "      <th>redshift</th>\n",
       "      <th>dered_u</th>\n",
       "      <th>dered_g</th>\n",
       "      <th>dered_r</th>\n",
       "      <th>dered_i</th>\n",
       "      <th>dered_z</th>\n",
       "      <th>nObserve</th>\n",
       "      <th>nDetect</th>\n",
       "      <th>airmass_u</th>\n",
       "      <th>airmass_g</th>\n",
       "      <th>airmass_r</th>\n",
       "      <th>airmass_i</th>\n",
       "      <th>airmass_z</th>\n",
       "      <th>class</th>\n",
       "    </tr>\n",
       "  </thead>\n",
       "  <tbody>\n",
       "    <tr>\n",
       "      <th>u</th>\n",
       "      <td>1.000000</td>\n",
       "      <td>0.048621</td>\n",
       "      <td>0.818125</td>\n",
       "      <td>0.017466</td>\n",
       "      <td>0.014199</td>\n",
       "      <td>-0.009243</td>\n",
       "      <td>0.935217</td>\n",
       "      <td>0.081037</td>\n",
       "      <td>0.782799</td>\n",
       "      <td>0.034951</td>\n",
       "      <td>0.021438</td>\n",
       "      <td>0.227273</td>\n",
       "      <td>0.221087</td>\n",
       "      <td>0.076302</td>\n",
       "      <td>0.076066</td>\n",
       "      <td>0.076441</td>\n",
       "      <td>0.076385</td>\n",
       "      <td>0.076197</td>\n",
       "      <td>-0.379313</td>\n",
       "    </tr>\n",
       "    <tr>\n",
       "      <th>g</th>\n",
       "      <td>0.048621</td>\n",
       "      <td>1.000000</td>\n",
       "      <td>0.049739</td>\n",
       "      <td>0.591288</td>\n",
       "      <td>0.543726</td>\n",
       "      <td>-0.000360</td>\n",
       "      <td>0.046967</td>\n",
       "      <td>0.998955</td>\n",
       "      <td>0.048157</td>\n",
       "      <td>0.707392</td>\n",
       "      <td>0.500364</td>\n",
       "      <td>0.011722</td>\n",
       "      <td>0.011415</td>\n",
       "      <td>0.001999</td>\n",
       "      <td>0.001934</td>\n",
       "      <td>0.002064</td>\n",
       "      <td>0.002032</td>\n",
       "      <td>0.001967</td>\n",
       "      <td>-0.019501</td>\n",
       "    </tr>\n",
       "    <tr>\n",
       "      <th>r</th>\n",
       "      <td>0.818125</td>\n",
       "      <td>0.049739</td>\n",
       "      <td>1.000000</td>\n",
       "      <td>0.022797</td>\n",
       "      <td>0.019127</td>\n",
       "      <td>-0.006304</td>\n",
       "      <td>0.805675</td>\n",
       "      <td>0.085505</td>\n",
       "      <td>0.969504</td>\n",
       "      <td>0.047424</td>\n",
       "      <td>0.030600</td>\n",
       "      <td>0.205900</td>\n",
       "      <td>0.195569</td>\n",
       "      <td>0.076337</td>\n",
       "      <td>0.075987</td>\n",
       "      <td>0.076592</td>\n",
       "      <td>0.076478</td>\n",
       "      <td>0.076175</td>\n",
       "      <td>-0.374905</td>\n",
       "    </tr>\n",
       "    <tr>\n",
       "      <th>i</th>\n",
       "      <td>0.017466</td>\n",
       "      <td>0.591288</td>\n",
       "      <td>0.022797</td>\n",
       "      <td>1.000000</td>\n",
       "      <td>0.919717</td>\n",
       "      <td>-0.000152</td>\n",
       "      <td>0.017510</td>\n",
       "      <td>0.590351</td>\n",
       "      <td>0.022486</td>\n",
       "      <td>0.987939</td>\n",
       "      <td>0.699012</td>\n",
       "      <td>0.005619</td>\n",
       "      <td>0.005580</td>\n",
       "      <td>-0.000755</td>\n",
       "      <td>-0.000829</td>\n",
       "      <td>-0.000679</td>\n",
       "      <td>-0.000718</td>\n",
       "      <td>-0.000792</td>\n",
       "      <td>-0.010138</td>\n",
       "    </tr>\n",
       "    <tr>\n",
       "      <th>z</th>\n",
       "      <td>0.014199</td>\n",
       "      <td>0.543726</td>\n",
       "      <td>0.019127</td>\n",
       "      <td>0.919717</td>\n",
       "      <td>1.000000</td>\n",
       "      <td>-0.000164</td>\n",
       "      <td>0.014029</td>\n",
       "      <td>0.542776</td>\n",
       "      <td>0.018913</td>\n",
       "      <td>0.908595</td>\n",
       "      <td>0.918965</td>\n",
       "      <td>0.005214</td>\n",
       "      <td>0.005192</td>\n",
       "      <td>-0.001465</td>\n",
       "      <td>-0.001521</td>\n",
       "      <td>-0.001406</td>\n",
       "      <td>-0.001436</td>\n",
       "      <td>-0.001493</td>\n",
       "      <td>-0.009960</td>\n",
       "    </tr>\n",
       "    <tr>\n",
       "      <th>redshift</th>\n",
       "      <td>-0.009243</td>\n",
       "      <td>-0.000360</td>\n",
       "      <td>-0.006304</td>\n",
       "      <td>-0.000152</td>\n",
       "      <td>-0.000164</td>\n",
       "      <td>1.000000</td>\n",
       "      <td>-0.007582</td>\n",
       "      <td>-0.000194</td>\n",
       "      <td>-0.002980</td>\n",
       "      <td>-0.000109</td>\n",
       "      <td>-0.000199</td>\n",
       "      <td>-0.007774</td>\n",
       "      <td>-0.007607</td>\n",
       "      <td>0.001382</td>\n",
       "      <td>0.001393</td>\n",
       "      <td>0.001370</td>\n",
       "      <td>0.001376</td>\n",
       "      <td>0.001387</td>\n",
       "      <td>0.073773</td>\n",
       "    </tr>\n",
       "    <tr>\n",
       "      <th>dered_u</th>\n",
       "      <td>0.935217</td>\n",
       "      <td>0.046967</td>\n",
       "      <td>0.805675</td>\n",
       "      <td>0.017510</td>\n",
       "      <td>0.014029</td>\n",
       "      <td>-0.007582</td>\n",
       "      <td>1.000000</td>\n",
       "      <td>0.086856</td>\n",
       "      <td>0.840528</td>\n",
       "      <td>0.037958</td>\n",
       "      <td>0.023229</td>\n",
       "      <td>0.222395</td>\n",
       "      <td>0.216898</td>\n",
       "      <td>0.088256</td>\n",
       "      <td>0.087821</td>\n",
       "      <td>0.088580</td>\n",
       "      <td>0.088433</td>\n",
       "      <td>0.088053</td>\n",
       "      <td>-0.337930</td>\n",
       "    </tr>\n",
       "    <tr>\n",
       "      <th>dered_g</th>\n",
       "      <td>0.081037</td>\n",
       "      <td>0.998955</td>\n",
       "      <td>0.085505</td>\n",
       "      <td>0.590351</td>\n",
       "      <td>0.542776</td>\n",
       "      <td>-0.000194</td>\n",
       "      <td>0.086856</td>\n",
       "      <td>1.000000</td>\n",
       "      <td>0.088660</td>\n",
       "      <td>0.707221</td>\n",
       "      <td>0.500081</td>\n",
       "      <td>0.019654</td>\n",
       "      <td>0.019033</td>\n",
       "      <td>0.005871</td>\n",
       "      <td>0.005777</td>\n",
       "      <td>0.005959</td>\n",
       "      <td>0.005916</td>\n",
       "      <td>0.005825</td>\n",
       "      <td>-0.030445</td>\n",
       "    </tr>\n",
       "    <tr>\n",
       "      <th>dered_r</th>\n",
       "      <td>0.782799</td>\n",
       "      <td>0.048157</td>\n",
       "      <td>0.969504</td>\n",
       "      <td>0.022486</td>\n",
       "      <td>0.018913</td>\n",
       "      <td>-0.002980</td>\n",
       "      <td>0.840528</td>\n",
       "      <td>0.088660</td>\n",
       "      <td>1.000000</td>\n",
       "      <td>0.049042</td>\n",
       "      <td>0.031533</td>\n",
       "      <td>0.199952</td>\n",
       "      <td>0.189958</td>\n",
       "      <td>0.083917</td>\n",
       "      <td>0.083433</td>\n",
       "      <td>0.084297</td>\n",
       "      <td>0.084121</td>\n",
       "      <td>0.083689</td>\n",
       "      <td>-0.341305</td>\n",
       "    </tr>\n",
       "    <tr>\n",
       "      <th>dered_i</th>\n",
       "      <td>0.034951</td>\n",
       "      <td>0.707392</td>\n",
       "      <td>0.047424</td>\n",
       "      <td>0.987939</td>\n",
       "      <td>0.908595</td>\n",
       "      <td>-0.000109</td>\n",
       "      <td>0.037958</td>\n",
       "      <td>0.707221</td>\n",
       "      <td>0.049042</td>\n",
       "      <td>1.000000</td>\n",
       "      <td>0.707473</td>\n",
       "      <td>0.011156</td>\n",
       "      <td>0.010817</td>\n",
       "      <td>0.001782</td>\n",
       "      <td>0.001696</td>\n",
       "      <td>0.001867</td>\n",
       "      <td>0.001825</td>\n",
       "      <td>0.001739</td>\n",
       "      <td>-0.018306</td>\n",
       "    </tr>\n",
       "    <tr>\n",
       "      <th>dered_z</th>\n",
       "      <td>0.021438</td>\n",
       "      <td>0.500364</td>\n",
       "      <td>0.030600</td>\n",
       "      <td>0.699012</td>\n",
       "      <td>0.918965</td>\n",
       "      <td>-0.000199</td>\n",
       "      <td>0.023229</td>\n",
       "      <td>0.500081</td>\n",
       "      <td>0.031533</td>\n",
       "      <td>0.707473</td>\n",
       "      <td>1.000000</td>\n",
       "      <td>0.008039</td>\n",
       "      <td>0.007844</td>\n",
       "      <td>-0.000261</td>\n",
       "      <td>-0.000305</td>\n",
       "      <td>-0.000215</td>\n",
       "      <td>-0.000238</td>\n",
       "      <td>-0.000283</td>\n",
       "      <td>-0.014416</td>\n",
       "    </tr>\n",
       "    <tr>\n",
       "      <th>nObserve</th>\n",
       "      <td>0.227273</td>\n",
       "      <td>0.011722</td>\n",
       "      <td>0.205900</td>\n",
       "      <td>0.005619</td>\n",
       "      <td>0.005214</td>\n",
       "      <td>-0.007774</td>\n",
       "      <td>0.222395</td>\n",
       "      <td>0.019654</td>\n",
       "      <td>0.199952</td>\n",
       "      <td>0.011156</td>\n",
       "      <td>0.008039</td>\n",
       "      <td>1.000000</td>\n",
       "      <td>0.993807</td>\n",
       "      <td>0.250289</td>\n",
       "      <td>0.253402</td>\n",
       "      <td>0.246764</td>\n",
       "      <td>0.248582</td>\n",
       "      <td>0.251899</td>\n",
       "      <td>-0.214860</td>\n",
       "    </tr>\n",
       "    <tr>\n",
       "      <th>nDetect</th>\n",
       "      <td>0.221087</td>\n",
       "      <td>0.011415</td>\n",
       "      <td>0.195569</td>\n",
       "      <td>0.005580</td>\n",
       "      <td>0.005192</td>\n",
       "      <td>-0.007607</td>\n",
       "      <td>0.216898</td>\n",
       "      <td>0.019033</td>\n",
       "      <td>0.189958</td>\n",
       "      <td>0.010817</td>\n",
       "      <td>0.007844</td>\n",
       "      <td>0.993807</td>\n",
       "      <td>1.000000</td>\n",
       "      <td>0.249365</td>\n",
       "      <td>0.252490</td>\n",
       "      <td>0.245829</td>\n",
       "      <td>0.247652</td>\n",
       "      <td>0.250981</td>\n",
       "      <td>-0.217051</td>\n",
       "    </tr>\n",
       "    <tr>\n",
       "      <th>airmass_u</th>\n",
       "      <td>0.076302</td>\n",
       "      <td>0.001999</td>\n",
       "      <td>0.076337</td>\n",
       "      <td>-0.000755</td>\n",
       "      <td>-0.001465</td>\n",
       "      <td>0.001382</td>\n",
       "      <td>0.088256</td>\n",
       "      <td>0.005871</td>\n",
       "      <td>0.083917</td>\n",
       "      <td>0.001782</td>\n",
       "      <td>-0.000261</td>\n",
       "      <td>0.250289</td>\n",
       "      <td>0.249365</td>\n",
       "      <td>1.000000</td>\n",
       "      <td>0.999406</td>\n",
       "      <td>0.999374</td>\n",
       "      <td>0.999845</td>\n",
       "      <td>0.999849</td>\n",
       "      <td>-0.076611</td>\n",
       "    </tr>\n",
       "    <tr>\n",
       "      <th>airmass_g</th>\n",
       "      <td>0.076066</td>\n",
       "      <td>0.001934</td>\n",
       "      <td>0.075987</td>\n",
       "      <td>-0.000829</td>\n",
       "      <td>-0.001521</td>\n",
       "      <td>0.001393</td>\n",
       "      <td>0.087821</td>\n",
       "      <td>0.005777</td>\n",
       "      <td>0.083433</td>\n",
       "      <td>0.001696</td>\n",
       "      <td>-0.000305</td>\n",
       "      <td>0.253402</td>\n",
       "      <td>0.252490</td>\n",
       "      <td>0.999406</td>\n",
       "      <td>1.000000</td>\n",
       "      <td>0.997561</td>\n",
       "      <td>0.998645</td>\n",
       "      <td>0.999853</td>\n",
       "      <td>-0.076640</td>\n",
       "    </tr>\n",
       "    <tr>\n",
       "      <th>airmass_r</th>\n",
       "      <td>0.076441</td>\n",
       "      <td>0.002064</td>\n",
       "      <td>0.076592</td>\n",
       "      <td>-0.000679</td>\n",
       "      <td>-0.001406</td>\n",
       "      <td>0.001370</td>\n",
       "      <td>0.088580</td>\n",
       "      <td>0.005959</td>\n",
       "      <td>0.084297</td>\n",
       "      <td>0.001867</td>\n",
       "      <td>-0.000215</td>\n",
       "      <td>0.246764</td>\n",
       "      <td>0.245829</td>\n",
       "      <td>0.999374</td>\n",
       "      <td>0.997561</td>\n",
       "      <td>1.000000</td>\n",
       "      <td>0.999842</td>\n",
       "      <td>0.998610</td>\n",
       "      <td>-0.076472</td>\n",
       "    </tr>\n",
       "    <tr>\n",
       "      <th>airmass_i</th>\n",
       "      <td>0.076385</td>\n",
       "      <td>0.002032</td>\n",
       "      <td>0.076478</td>\n",
       "      <td>-0.000718</td>\n",
       "      <td>-0.001436</td>\n",
       "      <td>0.001376</td>\n",
       "      <td>0.088433</td>\n",
       "      <td>0.005916</td>\n",
       "      <td>0.084121</td>\n",
       "      <td>0.001825</td>\n",
       "      <td>-0.000238</td>\n",
       "      <td>0.248582</td>\n",
       "      <td>0.247652</td>\n",
       "      <td>0.999845</td>\n",
       "      <td>0.998645</td>\n",
       "      <td>0.999842</td>\n",
       "      <td>1.000000</td>\n",
       "      <td>0.999390</td>\n",
       "      <td>-0.076556</td>\n",
       "    </tr>\n",
       "    <tr>\n",
       "      <th>airmass_z</th>\n",
       "      <td>0.076197</td>\n",
       "      <td>0.001967</td>\n",
       "      <td>0.076175</td>\n",
       "      <td>-0.000792</td>\n",
       "      <td>-0.001493</td>\n",
       "      <td>0.001387</td>\n",
       "      <td>0.088053</td>\n",
       "      <td>0.005825</td>\n",
       "      <td>0.083689</td>\n",
       "      <td>0.001739</td>\n",
       "      <td>-0.000283</td>\n",
       "      <td>0.251899</td>\n",
       "      <td>0.250981</td>\n",
       "      <td>0.999849</td>\n",
       "      <td>0.999853</td>\n",
       "      <td>0.998610</td>\n",
       "      <td>0.999390</td>\n",
       "      <td>1.000000</td>\n",
       "      <td>-0.076640</td>\n",
       "    </tr>\n",
       "    <tr>\n",
       "      <th>class</th>\n",
       "      <td>-0.379313</td>\n",
       "      <td>-0.019501</td>\n",
       "      <td>-0.374905</td>\n",
       "      <td>-0.010138</td>\n",
       "      <td>-0.009960</td>\n",
       "      <td>0.073773</td>\n",
       "      <td>-0.337930</td>\n",
       "      <td>-0.030445</td>\n",
       "      <td>-0.341305</td>\n",
       "      <td>-0.018306</td>\n",
       "      <td>-0.014416</td>\n",
       "      <td>-0.214860</td>\n",
       "      <td>-0.217051</td>\n",
       "      <td>-0.076611</td>\n",
       "      <td>-0.076640</td>\n",
       "      <td>-0.076472</td>\n",
       "      <td>-0.076556</td>\n",
       "      <td>-0.076640</td>\n",
       "      <td>1.000000</td>\n",
       "    </tr>\n",
       "  </tbody>\n",
       "</table>\n",
       "</div>"
      ],
      "text/plain": [
       "                  u         g         r         i         z  redshift  \\\n",
       "u          1.000000  0.048621  0.818125  0.017466  0.014199 -0.009243   \n",
       "g          0.048621  1.000000  0.049739  0.591288  0.543726 -0.000360   \n",
       "r          0.818125  0.049739  1.000000  0.022797  0.019127 -0.006304   \n",
       "i          0.017466  0.591288  0.022797  1.000000  0.919717 -0.000152   \n",
       "z          0.014199  0.543726  0.019127  0.919717  1.000000 -0.000164   \n",
       "redshift  -0.009243 -0.000360 -0.006304 -0.000152 -0.000164  1.000000   \n",
       "dered_u    0.935217  0.046967  0.805675  0.017510  0.014029 -0.007582   \n",
       "dered_g    0.081037  0.998955  0.085505  0.590351  0.542776 -0.000194   \n",
       "dered_r    0.782799  0.048157  0.969504  0.022486  0.018913 -0.002980   \n",
       "dered_i    0.034951  0.707392  0.047424  0.987939  0.908595 -0.000109   \n",
       "dered_z    0.021438  0.500364  0.030600  0.699012  0.918965 -0.000199   \n",
       "nObserve   0.227273  0.011722  0.205900  0.005619  0.005214 -0.007774   \n",
       "nDetect    0.221087  0.011415  0.195569  0.005580  0.005192 -0.007607   \n",
       "airmass_u  0.076302  0.001999  0.076337 -0.000755 -0.001465  0.001382   \n",
       "airmass_g  0.076066  0.001934  0.075987 -0.000829 -0.001521  0.001393   \n",
       "airmass_r  0.076441  0.002064  0.076592 -0.000679 -0.001406  0.001370   \n",
       "airmass_i  0.076385  0.002032  0.076478 -0.000718 -0.001436  0.001376   \n",
       "airmass_z  0.076197  0.001967  0.076175 -0.000792 -0.001493  0.001387   \n",
       "class     -0.379313 -0.019501 -0.374905 -0.010138 -0.009960  0.073773   \n",
       "\n",
       "            dered_u   dered_g   dered_r   dered_i   dered_z  nObserve  \\\n",
       "u          0.935217  0.081037  0.782799  0.034951  0.021438  0.227273   \n",
       "g          0.046967  0.998955  0.048157  0.707392  0.500364  0.011722   \n",
       "r          0.805675  0.085505  0.969504  0.047424  0.030600  0.205900   \n",
       "i          0.017510  0.590351  0.022486  0.987939  0.699012  0.005619   \n",
       "z          0.014029  0.542776  0.018913  0.908595  0.918965  0.005214   \n",
       "redshift  -0.007582 -0.000194 -0.002980 -0.000109 -0.000199 -0.007774   \n",
       "dered_u    1.000000  0.086856  0.840528  0.037958  0.023229  0.222395   \n",
       "dered_g    0.086856  1.000000  0.088660  0.707221  0.500081  0.019654   \n",
       "dered_r    0.840528  0.088660  1.000000  0.049042  0.031533  0.199952   \n",
       "dered_i    0.037958  0.707221  0.049042  1.000000  0.707473  0.011156   \n",
       "dered_z    0.023229  0.500081  0.031533  0.707473  1.000000  0.008039   \n",
       "nObserve   0.222395  0.019654  0.199952  0.011156  0.008039  1.000000   \n",
       "nDetect    0.216898  0.019033  0.189958  0.010817  0.007844  0.993807   \n",
       "airmass_u  0.088256  0.005871  0.083917  0.001782 -0.000261  0.250289   \n",
       "airmass_g  0.087821  0.005777  0.083433  0.001696 -0.000305  0.253402   \n",
       "airmass_r  0.088580  0.005959  0.084297  0.001867 -0.000215  0.246764   \n",
       "airmass_i  0.088433  0.005916  0.084121  0.001825 -0.000238  0.248582   \n",
       "airmass_z  0.088053  0.005825  0.083689  0.001739 -0.000283  0.251899   \n",
       "class     -0.337930 -0.030445 -0.341305 -0.018306 -0.014416 -0.214860   \n",
       "\n",
       "            nDetect  airmass_u  airmass_g  airmass_r  airmass_i  airmass_z  \\\n",
       "u          0.221087   0.076302   0.076066   0.076441   0.076385   0.076197   \n",
       "g          0.011415   0.001999   0.001934   0.002064   0.002032   0.001967   \n",
       "r          0.195569   0.076337   0.075987   0.076592   0.076478   0.076175   \n",
       "i          0.005580  -0.000755  -0.000829  -0.000679  -0.000718  -0.000792   \n",
       "z          0.005192  -0.001465  -0.001521  -0.001406  -0.001436  -0.001493   \n",
       "redshift  -0.007607   0.001382   0.001393   0.001370   0.001376   0.001387   \n",
       "dered_u    0.216898   0.088256   0.087821   0.088580   0.088433   0.088053   \n",
       "dered_g    0.019033   0.005871   0.005777   0.005959   0.005916   0.005825   \n",
       "dered_r    0.189958   0.083917   0.083433   0.084297   0.084121   0.083689   \n",
       "dered_i    0.010817   0.001782   0.001696   0.001867   0.001825   0.001739   \n",
       "dered_z    0.007844  -0.000261  -0.000305  -0.000215  -0.000238  -0.000283   \n",
       "nObserve   0.993807   0.250289   0.253402   0.246764   0.248582   0.251899   \n",
       "nDetect    1.000000   0.249365   0.252490   0.245829   0.247652   0.250981   \n",
       "airmass_u  0.249365   1.000000   0.999406   0.999374   0.999845   0.999849   \n",
       "airmass_g  0.252490   0.999406   1.000000   0.997561   0.998645   0.999853   \n",
       "airmass_r  0.245829   0.999374   0.997561   1.000000   0.999842   0.998610   \n",
       "airmass_i  0.247652   0.999845   0.998645   0.999842   1.000000   0.999390   \n",
       "airmass_z  0.250981   0.999849   0.999853   0.998610   0.999390   1.000000   \n",
       "class     -0.217051  -0.076611  -0.076640  -0.076472  -0.076556  -0.076640   \n",
       "\n",
       "              class  \n",
       "u         -0.379313  \n",
       "g         -0.019501  \n",
       "r         -0.374905  \n",
       "i         -0.010138  \n",
       "z         -0.009960  \n",
       "redshift   0.073773  \n",
       "dered_u   -0.337930  \n",
       "dered_g   -0.030445  \n",
       "dered_r   -0.341305  \n",
       "dered_i   -0.018306  \n",
       "dered_z   -0.014416  \n",
       "nObserve  -0.214860  \n",
       "nDetect   -0.217051  \n",
       "airmass_u -0.076611  \n",
       "airmass_g -0.076640  \n",
       "airmass_r -0.076472  \n",
       "airmass_i -0.076556  \n",
       "airmass_z -0.076640  \n",
       "class      1.000000  "
      ]
     },
     "execution_count": 49,
     "metadata": {},
     "output_type": "execute_result"
    }
   ],
   "source": [
    "# 데이터 공분산\n",
    "Train_set.corr()"
   ]
  },
  {
   "cell_type": "markdown",
   "metadata": {},
   "source": [
    "# Data Preprocessing"
   ]
  },
  {
   "cell_type": "markdown",
   "metadata": {},
   "source": [
    "## 1. outlier 제거"
   ]
  },
  {
   "cell_type": "code",
   "execution_count": 69,
   "metadata": {},
   "outputs": [],
   "source": [
    "# 전체 데이터가 아닌 각 클래스별(0,1,2)로 이상치 처리\n",
    "train_copy = Train_set.copy()\n",
    "\n",
    "def remove_outlier(data, column):\n",
    "    \n",
    "    # 클래스 0처리\n",
    "    column_data_0 = data[data['class']==0][column]\n",
    "    quan_25_0 = np.percentile(column_data_0.values, 25) # 1분위수\n",
    "    quan_75_0 = np.percentile(column_data_0.values, 75) # 3분위수\n",
    "    iqr_0 = quan_75_0 - quan_25_0 # IQR 계산\n",
    "    iqr_0 *= 1.5\n",
    "    lowest_0 = quan_25_0 - iqr_0 # 최솟값 설정\n",
    "    highest_0 = quan_75_0 + iqr_0 # 최댓값 설정\n",
    "    outlier_index_0 = column_data_0[(column_data_0 < lowest_0) | (column_data_0 > highest_0)].index # 최솟값 ~ 최댓값 사이의 값만 출력\n",
    "    print(len(outlier_index_0))\n",
    "    \n",
    "    # 클래스 1처리\n",
    "    column_data_1 = data[data['class']==1][column]\n",
    "    quan_25_1 = np.percentile(column_data_1.values, 25) # 1분위수\n",
    "    quan_75_1 = np.percentile(column_data_1.values, 75) # 3분위수\n",
    "    iqr_1 = quan_75_1 - quan_25_1 # IQR 계산\n",
    "    iqr_1 *= 1.5\n",
    "    lowest_1 = quan_25_1 - iqr_1 # 최솟값 설정\n",
    "    highest_1 = quan_75_1 + iqr_1 # 최댓값 설정\n",
    "    outlier_index_1 = column_data_1[(column_data_1 < lowest_1 )| (column_data_1 > highest_1)].index # 최솟값 ~ 최댓값 사이의 값만 출력\n",
    "    print(len(outlier_index_1))\n",
    "    \n",
    "    # 클래스 2 처리\n",
    "    column_data_2 = data[data['class']==2][column]\n",
    "    quan_25_2 = np.percentile(column_data_2.values, 25) # 1분위수\n",
    "    quan_75_2 = np.percentile(column_data_2.values, 75) # 3분위수\n",
    "    iqr_2 = quan_75_2 - quan_25_2 # IQR 계산\n",
    "    iqr_2 *= 1.5\n",
    "    lowest_2 = quan_25_2 - iqr_2 # 최솟값 설정\n",
    "    highest_2 = quan_75_2 + iqr_2 # 최댓값 설정\n",
    "    outlier_index_2 = column_data_2[(column_data_2 < lowest_2 )| (column_data_2 > highest_2)].index # 최솟값 ~ 최댓값 사이의 값만 출력\n",
    "    print(len(outlier_index_2))\n",
    "    # outlier 행 제거\n",
    "    data.drop(list(outlier_index_0) + list(outlier_index_1) + list(outlier_index_2), axis = 0, inplace = True)\n",
    "    print(data.shape)\n",
    "    return data"
   ]
  },
  {
   "cell_type": "code",
   "execution_count": 68,
   "metadata": {},
   "outputs": [
    {
     "data": {
      "text/plain": [
       "Index(['u', 'g', 'r', 'i', 'z', 'redshift', 'dered_u', 'dered_g', 'dered_r',\n",
       "       'dered_i', 'dered_z', 'nObserve', 'nDetect', 'airmass_u', 'airmass_g',\n",
       "       'airmass_r', 'airmass_i', 'airmass_z'],\n",
       "      dtype='object')"
      ]
     },
     "execution_count": 68,
     "metadata": {},
     "output_type": "execute_result"
    }
   ],
   "source": [
    "Train_set.columns[:-1]"
   ]
  },
  {
   "cell_type": "code",
   "execution_count": 70,
   "metadata": {
    "scrolled": true
   },
   "outputs": [
    {
     "name": "stdout",
     "output_type": "stream",
     "text": [
      "122\n",
      "1806\n",
      "8667\n",
      "(309405, 19)\n",
      "645\n",
      "438\n",
      "4973\n",
      "(303349, 19)\n",
      "406\n",
      "278\n",
      "2751\n",
      "(299914, 19)\n",
      "212\n",
      "241\n",
      "1162\n",
      "(298299, 19)\n",
      "423\n",
      "171\n",
      "693\n",
      "(297012, 19)\n",
      "12552\n",
      "1593\n",
      "2733\n",
      "(280134, 19)\n",
      "122\n",
      "697\n",
      "1087\n",
      "(278228, 19)\n",
      "619\n",
      "175\n",
      "280\n",
      "(277154, 19)\n",
      "164\n",
      "116\n",
      "120\n",
      "(276754, 19)\n",
      "35\n",
      "107\n",
      "107\n",
      "(276505, 19)\n",
      "137\n",
      "105\n",
      "150\n",
      "(276113, 19)\n",
      "136\n",
      "7663\n",
      "11827\n",
      "(256487, 19)\n",
      "7\n",
      "3221\n",
      "11847\n",
      "(241412, 19)\n",
      "2501\n",
      "913\n",
      "3615\n",
      "(234383, 19)\n",
      "1082\n",
      "167\n",
      "841\n",
      "(232293, 19)\n",
      "19\n",
      "15\n",
      "83\n",
      "(232176, 19)\n",
      "0\n",
      "0\n",
      "0\n",
      "(232176, 19)\n",
      "77\n",
      "0\n",
      "13\n",
      "(232086, 19)\n"
     ]
    },
    {
     "data": {
      "text/html": [
       "<div>\n",
       "<style scoped>\n",
       "    .dataframe tbody tr th:only-of-type {\n",
       "        vertical-align: middle;\n",
       "    }\n",
       "\n",
       "    .dataframe tbody tr th {\n",
       "        vertical-align: top;\n",
       "    }\n",
       "\n",
       "    .dataframe thead th {\n",
       "        text-align: right;\n",
       "    }\n",
       "</style>\n",
       "<table border=\"1\" class=\"dataframe\">\n",
       "  <thead>\n",
       "    <tr style=\"text-align: right;\">\n",
       "      <th></th>\n",
       "      <th>u</th>\n",
       "      <th>g</th>\n",
       "      <th>r</th>\n",
       "      <th>i</th>\n",
       "      <th>z</th>\n",
       "      <th>redshift</th>\n",
       "      <th>dered_u</th>\n",
       "      <th>dered_g</th>\n",
       "      <th>dered_r</th>\n",
       "      <th>dered_i</th>\n",
       "      <th>dered_z</th>\n",
       "      <th>nObserve</th>\n",
       "      <th>nDetect</th>\n",
       "      <th>airmass_u</th>\n",
       "      <th>airmass_g</th>\n",
       "      <th>airmass_r</th>\n",
       "      <th>airmass_i</th>\n",
       "      <th>airmass_z</th>\n",
       "      <th>class</th>\n",
       "    </tr>\n",
       "    <tr>\n",
       "      <th>id</th>\n",
       "      <th></th>\n",
       "      <th></th>\n",
       "      <th></th>\n",
       "      <th></th>\n",
       "      <th></th>\n",
       "      <th></th>\n",
       "      <th></th>\n",
       "      <th></th>\n",
       "      <th></th>\n",
       "      <th></th>\n",
       "      <th></th>\n",
       "      <th></th>\n",
       "      <th></th>\n",
       "      <th></th>\n",
       "      <th></th>\n",
       "      <th></th>\n",
       "      <th></th>\n",
       "      <th></th>\n",
       "      <th></th>\n",
       "    </tr>\n",
       "  </thead>\n",
       "  <tbody>\n",
       "    <tr>\n",
       "      <th>0</th>\n",
       "      <td>23.263956</td>\n",
       "      <td>20.336773</td>\n",
       "      <td>19.009500</td>\n",
       "      <td>17.672439</td>\n",
       "      <td>16.939607</td>\n",
       "      <td>-0.000081</td>\n",
       "      <td>23.12426</td>\n",
       "      <td>20.25779</td>\n",
       "      <td>18.95512</td>\n",
       "      <td>17.63211</td>\n",
       "      <td>16.90894</td>\n",
       "      <td>18</td>\n",
       "      <td>18</td>\n",
       "      <td>1.189764</td>\n",
       "      <td>1.190681</td>\n",
       "      <td>1.188979</td>\n",
       "      <td>1.189355</td>\n",
       "      <td>1.190206</td>\n",
       "      <td>0</td>\n",
       "    </tr>\n",
       "    <tr>\n",
       "      <th>2</th>\n",
       "      <td>16.786385</td>\n",
       "      <td>15.825426</td>\n",
       "      <td>15.536318</td>\n",
       "      <td>15.393535</td>\n",
       "      <td>15.350032</td>\n",
       "      <td>0.000472</td>\n",
       "      <td>16.60765</td>\n",
       "      <td>15.68659</td>\n",
       "      <td>15.44004</td>\n",
       "      <td>15.32173</td>\n",
       "      <td>15.29608</td>\n",
       "      <td>2</td>\n",
       "      <td>2</td>\n",
       "      <td>1.022499</td>\n",
       "      <td>1.024105</td>\n",
       "      <td>1.020983</td>\n",
       "      <td>1.021730</td>\n",
       "      <td>1.023291</td>\n",
       "      <td>0</td>\n",
       "    </tr>\n",
       "    <tr>\n",
       "      <th>3</th>\n",
       "      <td>25.660638</td>\n",
       "      <td>21.188727</td>\n",
       "      <td>20.221158</td>\n",
       "      <td>19.894949</td>\n",
       "      <td>19.634649</td>\n",
       "      <td>0.000006</td>\n",
       "      <td>25.35365</td>\n",
       "      <td>20.99465</td>\n",
       "      <td>20.08727</td>\n",
       "      <td>19.79465</td>\n",
       "      <td>19.55518</td>\n",
       "      <td>4</td>\n",
       "      <td>3</td>\n",
       "      <td>1.205399</td>\n",
       "      <td>1.206058</td>\n",
       "      <td>1.204874</td>\n",
       "      <td>1.205120</td>\n",
       "      <td>1.205712</td>\n",
       "      <td>0</td>\n",
       "    </tr>\n",
       "    <tr>\n",
       "      <th>4</th>\n",
       "      <td>24.453429</td>\n",
       "      <td>20.699170</td>\n",
       "      <td>19.042368</td>\n",
       "      <td>18.324152</td>\n",
       "      <td>17.982649</td>\n",
       "      <td>-0.000033</td>\n",
       "      <td>23.77140</td>\n",
       "      <td>20.43384</td>\n",
       "      <td>18.86299</td>\n",
       "      <td>18.19028</td>\n",
       "      <td>17.87592</td>\n",
       "      <td>13</td>\n",
       "      <td>12</td>\n",
       "      <td>1.193946</td>\n",
       "      <td>1.194285</td>\n",
       "      <td>1.193738</td>\n",
       "      <td>1.193826</td>\n",
       "      <td>1.194099</td>\n",
       "      <td>0</td>\n",
       "    </tr>\n",
       "    <tr>\n",
       "      <th>6</th>\n",
       "      <td>23.906276</td>\n",
       "      <td>20.847207</td>\n",
       "      <td>19.978427</td>\n",
       "      <td>19.495200</td>\n",
       "      <td>19.052571</td>\n",
       "      <td>-0.000042</td>\n",
       "      <td>23.84584</td>\n",
       "      <td>20.70001</td>\n",
       "      <td>19.87659</td>\n",
       "      <td>19.42051</td>\n",
       "      <td>19.00401</td>\n",
       "      <td>2</td>\n",
       "      <td>2</td>\n",
       "      <td>1.201924</td>\n",
       "      <td>1.202019</td>\n",
       "      <td>1.201963</td>\n",
       "      <td>1.201927</td>\n",
       "      <td>1.201954</td>\n",
       "      <td>0</td>\n",
       "    </tr>\n",
       "    <tr>\n",
       "      <th>...</th>\n",
       "      <td>...</td>\n",
       "      <td>...</td>\n",
       "      <td>...</td>\n",
       "      <td>...</td>\n",
       "      <td>...</td>\n",
       "      <td>...</td>\n",
       "      <td>...</td>\n",
       "      <td>...</td>\n",
       "      <td>...</td>\n",
       "      <td>...</td>\n",
       "      <td>...</td>\n",
       "      <td>...</td>\n",
       "      <td>...</td>\n",
       "      <td>...</td>\n",
       "      <td>...</td>\n",
       "      <td>...</td>\n",
       "      <td>...</td>\n",
       "      <td>...</td>\n",
       "      <td>...</td>\n",
       "    </tr>\n",
       "    <tr>\n",
       "      <th>319992</th>\n",
       "      <td>19.472131</td>\n",
       "      <td>17.950884</td>\n",
       "      <td>17.178280</td>\n",
       "      <td>16.778657</td>\n",
       "      <td>16.476769</td>\n",
       "      <td>0.091239</td>\n",
       "      <td>19.33696</td>\n",
       "      <td>17.85176</td>\n",
       "      <td>17.10959</td>\n",
       "      <td>16.72726</td>\n",
       "      <td>16.43697</td>\n",
       "      <td>1</td>\n",
       "      <td>1</td>\n",
       "      <td>1.116221</td>\n",
       "      <td>1.115751</td>\n",
       "      <td>1.116806</td>\n",
       "      <td>1.116499</td>\n",
       "      <td>1.115972</td>\n",
       "      <td>2</td>\n",
       "    </tr>\n",
       "    <tr>\n",
       "      <th>319995</th>\n",
       "      <td>18.365648</td>\n",
       "      <td>17.240883</td>\n",
       "      <td>16.773898</td>\n",
       "      <td>16.484970</td>\n",
       "      <td>16.340403</td>\n",
       "      <td>0.051988</td>\n",
       "      <td>18.13280</td>\n",
       "      <td>17.04065</td>\n",
       "      <td>16.63744</td>\n",
       "      <td>16.38606</td>\n",
       "      <td>16.28741</td>\n",
       "      <td>2</td>\n",
       "      <td>2</td>\n",
       "      <td>1.093010</td>\n",
       "      <td>1.088828</td>\n",
       "      <td>1.097310</td>\n",
       "      <td>1.095145</td>\n",
       "      <td>1.090905</td>\n",
       "      <td>2</td>\n",
       "    </tr>\n",
       "    <tr>\n",
       "      <th>319996</th>\n",
       "      <td>18.685639</td>\n",
       "      <td>17.665802</td>\n",
       "      <td>17.190434</td>\n",
       "      <td>16.816858</td>\n",
       "      <td>16.636688</td>\n",
       "      <td>0.087261</td>\n",
       "      <td>18.52074</td>\n",
       "      <td>17.51310</td>\n",
       "      <td>17.08711</td>\n",
       "      <td>16.74363</td>\n",
       "      <td>16.60173</td>\n",
       "      <td>2</td>\n",
       "      <td>2</td>\n",
       "      <td>1.051689</td>\n",
       "      <td>1.050838</td>\n",
       "      <td>1.052640</td>\n",
       "      <td>1.052152</td>\n",
       "      <td>1.051252</td>\n",
       "      <td>1</td>\n",
       "    </tr>\n",
       "    <tr>\n",
       "      <th>319997</th>\n",
       "      <td>21.188972</td>\n",
       "      <td>18.423357</td>\n",
       "      <td>17.295610</td>\n",
       "      <td>16.901072</td>\n",
       "      <td>16.684127</td>\n",
       "      <td>-0.000010</td>\n",
       "      <td>20.98896</td>\n",
       "      <td>18.30760</td>\n",
       "      <td>17.21518</td>\n",
       "      <td>16.84030</td>\n",
       "      <td>16.63555</td>\n",
       "      <td>31</td>\n",
       "      <td>30</td>\n",
       "      <td>1.193259</td>\n",
       "      <td>1.194140</td>\n",
       "      <td>1.192509</td>\n",
       "      <td>1.192868</td>\n",
       "      <td>1.193683</td>\n",
       "      <td>0</td>\n",
       "    </tr>\n",
       "    <tr>\n",
       "      <th>319998</th>\n",
       "      <td>18.847187</td>\n",
       "      <td>17.318605</td>\n",
       "      <td>16.505729</td>\n",
       "      <td>16.180571</td>\n",
       "      <td>15.911624</td>\n",
       "      <td>-0.000045</td>\n",
       "      <td>16.38998</td>\n",
       "      <td>15.40578</td>\n",
       "      <td>15.18229</td>\n",
       "      <td>15.19693</td>\n",
       "      <td>15.17935</td>\n",
       "      <td>1</td>\n",
       "      <td>1</td>\n",
       "      <td>1.172458</td>\n",
       "      <td>1.172561</td>\n",
       "      <td>1.172481</td>\n",
       "      <td>1.172454</td>\n",
       "      <td>1.172493</td>\n",
       "      <td>0</td>\n",
       "    </tr>\n",
       "  </tbody>\n",
       "</table>\n",
       "<p>232086 rows × 19 columns</p>\n",
       "</div>"
      ],
      "text/plain": [
       "                u          g          r          i          z  redshift  \\\n",
       "id                                                                        \n",
       "0       23.263956  20.336773  19.009500  17.672439  16.939607 -0.000081   \n",
       "2       16.786385  15.825426  15.536318  15.393535  15.350032  0.000472   \n",
       "3       25.660638  21.188727  20.221158  19.894949  19.634649  0.000006   \n",
       "4       24.453429  20.699170  19.042368  18.324152  17.982649 -0.000033   \n",
       "6       23.906276  20.847207  19.978427  19.495200  19.052571 -0.000042   \n",
       "...           ...        ...        ...        ...        ...       ...   \n",
       "319992  19.472131  17.950884  17.178280  16.778657  16.476769  0.091239   \n",
       "319995  18.365648  17.240883  16.773898  16.484970  16.340403  0.051988   \n",
       "319996  18.685639  17.665802  17.190434  16.816858  16.636688  0.087261   \n",
       "319997  21.188972  18.423357  17.295610  16.901072  16.684127 -0.000010   \n",
       "319998  18.847187  17.318605  16.505729  16.180571  15.911624 -0.000045   \n",
       "\n",
       "         dered_u   dered_g   dered_r   dered_i   dered_z  nObserve  nDetect  \\\n",
       "id                                                                            \n",
       "0       23.12426  20.25779  18.95512  17.63211  16.90894        18       18   \n",
       "2       16.60765  15.68659  15.44004  15.32173  15.29608         2        2   \n",
       "3       25.35365  20.99465  20.08727  19.79465  19.55518         4        3   \n",
       "4       23.77140  20.43384  18.86299  18.19028  17.87592        13       12   \n",
       "6       23.84584  20.70001  19.87659  19.42051  19.00401         2        2   \n",
       "...          ...       ...       ...       ...       ...       ...      ...   \n",
       "319992  19.33696  17.85176  17.10959  16.72726  16.43697         1        1   \n",
       "319995  18.13280  17.04065  16.63744  16.38606  16.28741         2        2   \n",
       "319996  18.52074  17.51310  17.08711  16.74363  16.60173         2        2   \n",
       "319997  20.98896  18.30760  17.21518  16.84030  16.63555        31       30   \n",
       "319998  16.38998  15.40578  15.18229  15.19693  15.17935         1        1   \n",
       "\n",
       "        airmass_u  airmass_g  airmass_r  airmass_i  airmass_z  class  \n",
       "id                                                                    \n",
       "0        1.189764   1.190681   1.188979   1.189355   1.190206      0  \n",
       "2        1.022499   1.024105   1.020983   1.021730   1.023291      0  \n",
       "3        1.205399   1.206058   1.204874   1.205120   1.205712      0  \n",
       "4        1.193946   1.194285   1.193738   1.193826   1.194099      0  \n",
       "6        1.201924   1.202019   1.201963   1.201927   1.201954      0  \n",
       "...           ...        ...        ...        ...        ...    ...  \n",
       "319992   1.116221   1.115751   1.116806   1.116499   1.115972      2  \n",
       "319995   1.093010   1.088828   1.097310   1.095145   1.090905      2  \n",
       "319996   1.051689   1.050838   1.052640   1.052152   1.051252      1  \n",
       "319997   1.193259   1.194140   1.192509   1.192868   1.193683      0  \n",
       "319998   1.172458   1.172561   1.172481   1.172454   1.172493      0  \n",
       "\n",
       "[232086 rows x 19 columns]"
      ]
     },
     "execution_count": 70,
     "metadata": {},
     "output_type": "execute_result"
    }
   ],
   "source": [
    "Train_copy1 = Train_set.copy()\n",
    "for col in Train_copy1.columns[:-1]:\n",
    "    ROT = remove_outlier(Train_copy1, col)\n",
    "    \n",
    "    Train_copy1 = ROT\n",
    "    \n",
    "Train_copy1"
   ]
  },
  {
   "cell_type": "code",
   "execution_count": 71,
   "metadata": {},
   "outputs": [
    {
     "data": {
      "image/png": "[encoded data removed]",
      "text/plain": [
       "<Figure size 432x288 with 1 Axes>"
      ]
     },
     "metadata": {
      "needs_background": "light"
     },
     "output_type": "display_data"
    },
    {
     "data": {
      "image/png": "[encoded data removed]",
      "text/plain": [
       "<Figure size 432x288 with 1 Axes>"
      ]
     },
     "metadata": {
      "needs_background": "light"
     },
     "output_type": "display_data"
    },
    {
     "data": {
      "image/png": "[encoded data removed]",
      "text/plain": [
       "<Figure size 432x288 with 1 Axes>"
      ]
     },
     "metadata": {
      "needs_background": "light"
     },
     "output_type": "display_data"
    },
    {
     "data": {
      "image/png": "[encoded data removed]",
      "text/plain": [
       "<Figure size 432x288 with 1 Axes>"
      ]
     },
     "metadata": {
      "needs_background": "light"
     },
     "output_type": "display_data"
    },
    {
     "data": {
      "image/png": "[encoded data removed]",
      "text/plain": [
       "<Figure size 432x288 with 1 Axes>"
      ]
     },
     "metadata": {
      "needs_background": "light"
     },
     "output_type": "display_data"
    },
    {
     "data": {
      "image/png": "[encoded data removed]",
      "text/plain": [
       "<Figure size 432x288 with 1 Axes>"
      ]
     },
     "metadata": {
      "needs_background": "light"
     },
     "output_type": "display_data"
    },
    {
     "data": {
      "image/png": "[encoded data removed]",
      "text/plain": [
       "<Figure size 432x288 with 1 Axes>"
      ]
     },
     "metadata": {
      "needs_background": "light"
     },
     "output_type": "display_data"
    },
    {
     "data": {
      "image/png": "[encoded data removed]",
      "text/plain": [
       "<Figure size 432x288 with 1 Axes>"
      ]
     },
     "metadata": {
      "needs_background": "light"
     },
     "output_type": "display_data"
    },
    {
     "data": {
      "image/png": "[encoded data removed]",
      "text/plain": [
       "<Figure size 432x288 with 1 Axes>"
      ]
     },
     "metadata": {
      "needs_background": "light"
     },
     "output_type": "display_data"
    },
    {
     "data": {
      "image/png": "[encoded data removed]",
      "text/plain": [
       "<Figure size 432x288 with 1 Axes>"
      ]
     },
     "metadata": {
      "needs_background": "light"
     },
     "output_type": "display_data"
    },
    {
     "data": {
      "image/png": "[encoded data removed]",
      "text/plain": [
       "<Figure size 432x288 with 1 Axes>"
      ]
     },
     "metadata": {
      "needs_background": "light"
     },
     "output_type": "display_data"
    },
    {
     "data": {
      "image/png": "[encoded data removed]",
      "text/plain": [
       "<Figure size 432x288 with 1 Axes>"
      ]
     },
     "metadata": {
      "needs_background": "light"
     },
     "output_type": "display_data"
    },
    {
     "data": {
      "image/png": "[encoded data removed]",
      "text/plain": [
       "<Figure size 432x288 with 1 Axes>"
      ]
     },
     "metadata": {
      "needs_background": "light"
     },
     "output_type": "display_data"
    },
    {
     "data": {
      "image/png": "[encoded data removed]",
      "text/plain": [
       "<Figure size 432x288 with 1 Axes>"
      ]
     },
     "metadata": {
      "needs_background": "light"
     },
     "output_type": "display_data"
    },
    {
     "data": {
      "image/png": "[encoded data removed]",
      "text/plain": [
       "<Figure size 432x288 with 1 Axes>"
      ]
     },
     "metadata": {
      "needs_background": "light"
     },
     "output_type": "display_data"
    },
    {
     "data": {
      "image/png": "[encoded data removed]",
      "text/plain": [
       "<Figure size 432x288 with 1 Axes>"
      ]
     },
     "metadata": {
      "needs_background": "light"
     },
     "output_type": "display_data"
    },
    {
     "data": {
      "image/png": "[encoded data removed]",
      "text/plain": [
       "<Figure size 432x288 with 1 Axes>"
      ]
     },
     "metadata": {
      "needs_background": "light"
     },
     "output_type": "display_data"
    },
    {
     "data": {
      "image/png": "[encoded data removed]",
      "text/plain": [
       "<Figure size 432x288 with 1 Axes>"
      ]
     },
     "metadata": {
      "needs_background": "light"
     },
     "output_type": "display_data"
    }
   ],
   "source": [
    "for i in list(Train_copy1.columns)[:-1]:\n",
    "    sns.boxplot(x= Train_copy1['class'], y = Train_copy1[i])\n",
    "    plt.show()"
   ]
  },
  {
   "cell_type": "markdown",
   "metadata": {},
   "source": [
    "# 2. 표준화"
   ]
  },
  {
   "cell_type": "code",
   "execution_count": 43,
   "metadata": {},
   "outputs": [
    {
     "data": {
      "text/plain": [
       "array([[ 2.25096502,  1.37409575,  0.95663898, ...,  0.07097471,\n",
       "         0.0787459 , -0.5       ],\n",
       "       [-2.55704925, -2.55177875, -2.62649742, ...,  0.50946359,\n",
       "         0.55056407,  0.        ],\n",
       "       [-1.54165324, -1.44845966, -1.28282507, ..., -1.1214217 ,\n",
       "        -1.12678213, -0.5       ],\n",
       "       ...,\n",
       "       [ 1.03606177,  0.17695395, -0.14845576, ...,  0.09596435,\n",
       "         0.10385821, -0.5       ],\n",
       "       [-0.33505355, -0.51424183, -0.65776116, ..., -0.04925015,\n",
       "        -0.04918459, -0.5       ],\n",
       "       [ 0.25820525,  0.42503254,  0.63816509, ..., -0.86684462,\n",
       "        -0.88584986, -0.5       ]])"
      ]
     },
     "execution_count": 43,
     "metadata": {},
     "output_type": "execute_result"
    }
   ],
   "source": [
    "# 표준화 : RobustScaler() :\n",
    "# 이상치, 특이값에 덜 민감한\" 중앙값(median)과 IQR(Inter-Quartile Range)을 이용해서 척도를 표준화하는 방법\n",
    "#  (x-median)/IQR )\n",
    "\n",
    "x_RobustScaler = RobustScaler().fit_transform(Train_set)\n",
    "x_RobustScaler"
   ]
  },
  {
   "cell_type": "code",
   "execution_count": 47,
   "metadata": {},
   "outputs": [
    {
     "data": {
      "image/png": "[encoded data removed]",
      "text/plain": [
       "<Figure size 1440x1080 with 20 Axes>"
      ]
     },
     "metadata": {
      "needs_background": "light"
     },
     "output_type": "display_data"
    }
   ],
   "source": [
    "pd.DataFrame(x_RobustScaler, columns = Train_set.columns).hist(bins = 50,  figsize=(20,15))\n",
    "plt.show()"
   ]
  },
  {
   "cell_type": "markdown",
   "metadata": {},
   "source": [
    "# Spilting X, Y"
   ]
  },
  {
   "cell_type": "code",
   "execution_count": 37,
   "metadata": {},
   "outputs": [],
   "source": [
    "# 모델 평가를 위한 훈련데이터 Split\n",
    "seed = 0\n",
    "size = 0.1 # Testing size\n",
    "X = Train_set.drop('class', axis = 1)\n",
    "Y = Train_set['class']\n",
    "X_Train, X_Test, y_train, y_test = train_test_split(X, Y, test_size = size, random_state = seed)  "
   ]
  },
  {
   "cell_type": "markdown",
   "metadata": {},
   "source": [
    "# modeling"
   ]
  },
  {
   "cell_type": "code",
   "execution_count": 20,
   "metadata": {},
   "outputs": [
    {
     "data": {
      "text/plain": [
       "XGBClassifier(base_score=0.5, booster='gbtree', colsample_bylevel=1,\n",
       "              colsample_bynode=1, colsample_bytree=1, gamma=0, gpu_id=-1,\n",
       "              importance_type='gain', interaction_constraints='',\n",
       "              learning_rate=0.01, max_delta_step=0, max_depth=27,\n",
       "              min_child_weight=1, missing=nan, monotone_constraints='()',\n",
       "              n_estimators=1050, n_jobs=0, num_parallel_tree=1,\n",
       "              objective='multi:softprob', random_state=0, reg_alpha=0,\n",
       "              reg_lambda=1, scale_pos_weight=None, subsample=1,\n",
       "              tree_method='exact', validate_parameters=1, verbosity=None)"
      ]
     },
     "execution_count": 20,
     "metadata": {},
     "output_type": "execute_result"
    }
   ],
   "source": [
    "model = xgb.XGBClassifier(max_depth = 27, learning_rate = 0.01, n_estimators = 1050)\n",
    "model.fit(X_Train, y_train)"
   ]
  },
  {
   "cell_type": "code",
   "execution_count": 67,
   "metadata": {},
   "outputs": [],
   "source": [
    "xgb.XGBClassifier?"
   ]
  },
  {
   "cell_type": "markdown",
   "metadata": {},
   "source": [
    "# Evaluation"
   ]
  },
  {
   "cell_type": "code",
   "execution_count": 27,
   "metadata": {},
   "outputs": [
    {
     "data": {
      "text/plain": [
       "<matplotlib.axes._subplots.AxesSubplot at 0x1d9894b81c8>"
      ]
     },
     "execution_count": 27,
     "metadata": {},
     "output_type": "execute_result"
    },
    {
     "data": {
      "image/png": "[encoded data removed]",
      "text/plain": [
       "<Figure size 432x288 with 1 Axes>"
      ]
     },
     "metadata": {
      "needs_background": "light"
     },
     "output_type": "display_data"
    }
   ],
   "source": [
    "# plot importance(model)\n",
    "plot_importance(model)"
   ]
  },
  {
   "cell_type": "code",
   "execution_count": 28,
   "metadata": {},
   "outputs": [
    {
     "data": {
      "text/plain": [
       "array([2, 2, 2, ..., 0, 2, 0], dtype=int64)"
      ]
     },
     "execution_count": 28,
     "metadata": {},
     "output_type": "execute_result"
    }
   ],
   "source": [
    "# 예측 평가\n",
    "y_pred = model.predict(X_Test)\n",
    "y_pred"
   ]
  },
  {
   "cell_type": "code",
   "execution_count": 29,
   "metadata": {},
   "outputs": [
    {
     "data": {
      "text/plain": [
       "0.07075"
      ]
     },
     "execution_count": 29,
     "metadata": {},
     "output_type": "execute_result"
    }
   ],
   "source": [
    "# evaluate predictions\n",
    "mean_squared_error(y_test, y_pred)"
   ]
  },
  {
   "cell_type": "code",
   "execution_count": 30,
   "metadata": {},
   "outputs": [
    {
     "data": {
      "text/plain": [
       "array([[12010,     6,     4],\n",
       "       [   12,  2870,   746],\n",
       "       [   18,  1412, 14922]], dtype=int64)"
      ]
     },
     "execution_count": 30,
     "metadata": {},
     "output_type": "execute_result"
    }
   ],
   "source": [
    "# confusion matrix\n",
    "confusion_matrix(y_pred, y_test)"
   ]
  },
  {
   "cell_type": "code",
   "execution_count": 31,
   "metadata": {},
   "outputs": [
    {
     "name": "stdout",
     "output_type": "stream",
     "text": [
      "Accuracy: 93.13125%\n"
     ]
    }
   ],
   "source": [
    "# accuracy\n",
    "accuracy = accuracy_score(y_test, y_pred)\n",
    "print(\"Accuracy: {}%\".format(accuracy * 100.0))"
   ]
  },
  {
   "cell_type": "code",
   "execution_count": 32,
   "metadata": {},
   "outputs": [],
   "source": [
    "result = model.predict(Test_set)\n",
    "Submission_set['class'] = result\n",
    "Submission_set.to_csv(\"submission.csv\", encoding='utf-8')"
   ]
  },
  {
   "cell_type": "code",
   "execution_count": 93,
   "metadata": {
    "scrolled": true
   },
   "outputs": [
    {
     "data": {
      "text/html": [
       "<div>\n",
       "<style scoped>\n",
       "    .dataframe tbody tr th:only-of-type {\n",
       "        vertical-align: middle;\n",
       "    }\n",
       "\n",
       "    .dataframe tbody tr th {\n",
       "        vertical-align: top;\n",
       "    }\n",
       "\n",
       "    .dataframe thead th {\n",
       "        text-align: right;\n",
       "    }\n",
       "</style>\n",
       "<table border=\"1\" class=\"dataframe\">\n",
       "  <thead>\n",
       "    <tr style=\"text-align: right;\">\n",
       "      <th></th>\n",
       "      <th>class</th>\n",
       "    </tr>\n",
       "    <tr>\n",
       "      <th>id</th>\n",
       "      <th></th>\n",
       "    </tr>\n",
       "  </thead>\n",
       "  <tbody>\n",
       "    <tr>\n",
       "      <td>320000</td>\n",
       "      <td>2</td>\n",
       "    </tr>\n",
       "    <tr>\n",
       "      <td>320001</td>\n",
       "      <td>0</td>\n",
       "    </tr>\n",
       "    <tr>\n",
       "      <td>320002</td>\n",
       "      <td>2</td>\n",
       "    </tr>\n",
       "    <tr>\n",
       "      <td>320003</td>\n",
       "      <td>0</td>\n",
       "    </tr>\n",
       "    <tr>\n",
       "      <td>320004</td>\n",
       "      <td>2</td>\n",
       "    </tr>\n",
       "    <tr>\n",
       "      <td>...</td>\n",
       "      <td>...</td>\n",
       "    </tr>\n",
       "    <tr>\n",
       "      <td>399995</td>\n",
       "      <td>0</td>\n",
       "    </tr>\n",
       "    <tr>\n",
       "      <td>399996</td>\n",
       "      <td>1</td>\n",
       "    </tr>\n",
       "    <tr>\n",
       "      <td>399997</td>\n",
       "      <td>0</td>\n",
       "    </tr>\n",
       "    <tr>\n",
       "      <td>399998</td>\n",
       "      <td>2</td>\n",
       "    </tr>\n",
       "    <tr>\n",
       "      <td>399999</td>\n",
       "      <td>0</td>\n",
       "    </tr>\n",
       "  </tbody>\n",
       "</table>\n",
       "<p>80000 rows × 1 columns</p>\n",
       "</div>"
      ],
      "text/plain": [
       "        class\n",
       "id           \n",
       "320000      2\n",
       "320001      0\n",
       "320002      2\n",
       "320003      0\n",
       "320004      2\n",
       "...       ...\n",
       "399995      0\n",
       "399996      1\n",
       "399997      0\n",
       "399998      2\n",
       "399999      0\n",
       "\n",
       "[80000 rows x 1 columns]"
      ]
     },
     "execution_count": 93,
     "metadata": {},
     "output_type": "execute_result"
    }
   ],
   "source": [
    "Submission_set"
   ]
  },
  {
   "cell_type": "markdown",
   "metadata": {},
   "source": [
    "=============================================================================================="
   ]
  },
  {
   "cell_type": "markdown",
   "metadata": {},
   "source": [
    "# 파라미터 튜닝"
   ]
  },
  {
   "cell_type": "code",
   "execution_count": 13,
   "metadata": {
    "scrolled": false
   },
   "outputs": [
    {
     "name": "stdout",
     "output_type": "stream",
     "text": [
      "1 번째 학습\n",
      "MSE : 0.13\n",
      "[[11986    15    20]\n",
      " [   19   420    83]\n",
      " [   35  3853 15569]]\n",
      "Accuracy: 87.421875%\n",
      "2 번째 학습\n",
      "MSE : 0.10\n",
      "[[11991     7     8]\n",
      " [   22  1729   487]\n",
      " [   27  2552 15177]]\n",
      "Accuracy: 90.303125%\n",
      "3 번째 학습\n",
      "MSE : 0.09\n",
      "[[12000     6     5]\n",
      " [   19  2025   546]\n",
      " [   21  2257 15121]]\n",
      "Accuracy: 91.08125%\n",
      "4 번째 학습\n",
      "MSE : 0.09\n",
      "[[12001     6     4]\n",
      " [   17  2222   626]\n",
      " [   22  2060 15042]]\n",
      "Accuracy: 91.453125%\n",
      "5 번째 학습\n",
      "MSE : 0.08\n",
      "[[12005     6     2]\n",
      " [   16  2295   613]\n",
      " [   19  1987 15057]]\n",
      "Accuracy: 91.740625%\n",
      "6 번째 학습\n",
      "MSE : 0.08\n",
      "[[12006     7     1]\n",
      " [   15  2434   648]\n",
      " [   19  1847 15023]]\n",
      "Accuracy: 92.071875%\n",
      "7 번째 학습\n",
      "MSE : 0.08\n",
      "[[12010     6     3]\n",
      " [   14  2489   663]\n",
      " [   16  1793 15006]]\n",
      "Accuracy: 92.203125%\n",
      "8 번째 학습\n",
      "MSE : 0.08\n",
      "[[12005     6     4]\n",
      " [   18  2564   686]\n",
      " [   17  1718 14982]]\n",
      "Accuracy: 92.346875%\n",
      "9 번째 학습\n",
      "MSE : 0.08\n",
      "[[12008     6     3]\n",
      " [   15  2616   691]\n",
      " [   17  1666 14978]]\n",
      "Accuracy: 92.50625%\n",
      "10 번째 학습\n",
      "MSE : 0.07\n",
      "[[12004     6     2]\n",
      " [   17  2665   664]\n",
      " [   19  1617 15006]]\n",
      "Accuracy: 92.734375%\n",
      "11 번째 학습\n",
      "MSE : 0.07\n",
      "[[12004     5     2]\n",
      " [   17  2715   698]\n",
      " [   19  1568 14972]]\n",
      "Accuracy: 92.784375%\n",
      "12 번째 학습\n",
      "MSE : 0.07\n",
      "[[12006     5     2]\n",
      " [   18  2792   713]\n",
      " [   16  1491 14957]]\n",
      "Accuracy: 92.984375%\n",
      "13 번째 학습\n",
      "MSE : 0.07\n",
      "[[12009     6     3]\n",
      " [   16  2803   712]\n",
      " [   15  1479 14957]]\n",
      "Accuracy: 93.02812499999999%\n",
      "14 번째 학습\n",
      "MSE : 0.07\n",
      "[[12009     5     3]\n",
      " [   16  2843   726]\n",
      " [   15  1440 14943]]\n",
      "Accuracy: 93.109375%\n",
      "15 번째 학습\n",
      "MSE : 0.07\n",
      "[[12008     6     3]\n",
      " [   16  2843   732]\n",
      " [   16  1439 14937]]\n",
      "Accuracy: 93.0875%\n",
      "16 번째 학습\n",
      "MSE : 0.07\n",
      "[[12008     6     3]\n",
      " [   17  2846   736]\n",
      " [   15  1436 14933]]\n",
      "Accuracy: 93.084375%\n",
      "17 번째 학습\n",
      "MSE : 0.07\n",
      "[[12009     6     3]\n",
      " [   15  2850   747]\n",
      " [   16  1432 14922]]\n",
      "Accuracy: 93.065625%\n",
      "18 번째 학습\n",
      "MSE : 0.07\n",
      "[[12009     6     3]\n",
      " [   14  2856   747]\n",
      " [   17  1426 14922]]\n",
      "Accuracy: 93.084375%\n",
      "19 번째 학습\n",
      "MSE : 0.07\n",
      "[[12009     5     3]\n",
      " [   14  2866   760]\n",
      " [   17  1417 14909]]\n",
      "Accuracy: 93.075%\n",
      "20 번째 학습\n",
      "MSE : 0.07\n",
      "[[12010     4     5]\n",
      " [   12  2861   748]\n",
      " [   18  1423 14919]]\n",
      "Accuracy: 93.09375%\n",
      "21 번째 학습\n",
      "MSE : 0.07\n",
      "[[12009     6     2]\n",
      " [   13  2871   750]\n",
      " [   18  1411 14920]]\n",
      "Accuracy: 93.125%\n",
      "22 번째 학습\n",
      "MSE : 0.07\n",
      "[[12008     5     3]\n",
      " [   14  2844   748]\n",
      " [   18  1439 14921]]\n",
      "Accuracy: 93.040625%\n",
      "23 번째 학습\n",
      "MSE : 0.07\n",
      "[[12011     5     5]\n",
      " [   13  2868   753]\n",
      " [   16  1415 14914]]\n",
      "Accuracy: 93.10312499999999%\n",
      "24 번째 학습\n",
      "MSE : 0.07\n",
      "[[12009     5     4]\n",
      " [   13  2866   751]\n",
      " [   18  1417 14917]]\n",
      "Accuracy: 93.10000000000001%\n",
      "25 번째 학습\n",
      "MSE : 0.07\n",
      "[[12010     6     3]\n",
      " [   13  2850   745]\n",
      " [   17  1432 14924]]\n",
      "Accuracy: 93.075%\n",
      "26 번째 학습\n",
      "MSE : 0.07\n",
      "[[12008     6     4]\n",
      " [   14  2865   753]\n",
      " [   18  1417 14915]]\n",
      "Accuracy: 93.0875%\n",
      "27 번째 학습\n",
      "MSE : 0.07\n",
      "[[12008     6     3]\n",
      " [   14  2872   743]\n",
      " [   18  1410 14926]]\n",
      "Accuracy: 93.14375%\n",
      "28 번째 학습\n",
      "MSE : 0.07\n",
      "[[12009     6     3]\n",
      " [   13  2859   735]\n",
      " [   18  1423 14934]]\n",
      "Accuracy: 93.13125%\n",
      "29 번째 학습\n",
      "MSE : 0.07\n",
      "[[12007     5     4]\n",
      " [   15  2862   748]\n",
      " [   18  1421 14920]]\n",
      "Accuracy: 93.090625%\n"
     ]
    }
   ],
   "source": [
    "for i in range(1, 30):\n",
    "    print(i, \"번째 학습\")\n",
    "    model = xgb.XGBClassifier(max_depth = i, learning_rate = 0.1)\n",
    "    model.fit(X_Train, y_train)\n",
    "    \n",
    "    # 예측 평가\n",
    "    y_pred = model.predict(X_Test)\n",
    "    \n",
    "    # evaluate predictions\n",
    "    MSE = mean_squared_error(y_test, y_pred)\n",
    "    print('MSE : %.2f'%MSE)\n",
    "    # confusion matrix\n",
    "    CM = confusion_matrix(y_pred, y_test)\n",
    "    print(CM)\n",
    "    # accuracy\n",
    "    accuracy = accuracy_score(y_test, y_pred)\n",
    "    print(\"Accuracy: {}%\".format(accuracy * 100.0))"
   ]
  },
  {
   "cell_type": "code",
   "execution_count": 19,
   "metadata": {
    "scrolled": false
   },
   "outputs": [
    {
     "name": "stdout",
     "output_type": "stream",
     "text": [
      "100 번째 학습\n",
      "MSE : 0.08\n",
      "[[12006     5     7]\n",
      " [   16  2672   714]\n",
      " [   18  1611 14951]]\n",
      "Accuracy: 92.590625%\n",
      "150 번째 학습\n",
      "MSE : 0.08\n",
      "[[12007     5     8]\n",
      " [   16  2692   707]\n",
      " [   17  1591 14957]]\n",
      "Accuracy: 92.675%\n",
      "200 번째 학습\n",
      "MSE : 0.07\n",
      "[[12008     5     7]\n",
      " [   16  2720   703]\n",
      " [   16  1563 14962]]\n",
      "Accuracy: 92.78125%\n",
      "250 번째 학습\n",
      "MSE : 0.07\n",
      "[[12009     5     5]\n",
      " [   16  2730   713]\n",
      " [   15  1553 14954]]\n",
      "Accuracy: 92.790625%\n",
      "300 번째 학습\n",
      "MSE : 0.07\n",
      "[[12008     5     5]\n",
      " [   17  2751   715]\n",
      " [   15  1532 14952]]\n",
      "Accuracy: 92.846875%\n",
      "350 번째 학습\n",
      "MSE : 0.07\n",
      "[[12008     5     4]\n",
      " [   17  2771   708]\n",
      " [   15  1512 14960]]\n",
      "Accuracy: 92.934375%\n",
      "400 번째 학습\n",
      "MSE : 0.07\n",
      "[[12008     5     4]\n",
      " [   16  2772   711]\n",
      " [   16  1511 14957]]\n",
      "Accuracy: 92.928125%\n",
      "450 번째 학습\n",
      "MSE : 0.07\n",
      "[[12010     5     3]\n",
      " [   15  2785   716]\n",
      " [   15  1498 14953]]\n",
      "Accuracy: 92.9625%\n",
      "500 번째 학습\n",
      "MSE : 0.07\n",
      "[[12009     5     3]\n",
      " [   15  2790   714]\n",
      " [   16  1493 14955]]\n",
      "Accuracy: 92.98125%\n",
      "550 번째 학습\n",
      "MSE : 0.07\n",
      "[[12009     6     3]\n",
      " [   15  2796   718]\n",
      " [   16  1486 14951]]\n",
      "Accuracy: 92.9875%\n",
      "600 번째 학습\n",
      "MSE : 0.07\n",
      "[[12010     6     3]\n",
      " [   14  2795   717]\n",
      " [   16  1487 14952]]\n",
      "Accuracy: 92.99062500000001%\n",
      "650 번째 학습\n",
      "MSE : 0.07\n",
      "[[12010     5     3]\n",
      " [   14  2798   717]\n",
      " [   16  1485 14952]]\n",
      "Accuracy: 93.0%\n",
      "700 번째 학습\n",
      "MSE : 0.07\n",
      "[[12011     5     3]\n",
      " [   14  2805   709]\n",
      " [   15  1478 14960]]\n",
      "Accuracy: 93.05%\n",
      "750 번째 학습\n",
      "MSE : 0.07\n",
      "[[12010     6     3]\n",
      " [   15  2812   711]\n",
      " [   15  1470 14958]]\n",
      "Accuracy: 93.0625%\n",
      "800 번째 학습\n",
      "MSE : 0.07\n",
      "[[12010     7     3]\n",
      " [   15  2815   718]\n",
      " [   15  1466 14951]]\n",
      "Accuracy: 93.05%\n",
      "850 번째 학습\n",
      "MSE : 0.07\n",
      "[[12010     7     3]\n",
      " [   15  2817   721]\n",
      " [   15  1464 14948]]\n",
      "Accuracy: 93.046875%\n",
      "900 번째 학습\n",
      "MSE : 0.07\n",
      "[[12011     7     3]\n",
      " [   14  2819   721]\n",
      " [   15  1462 14948]]\n",
      "Accuracy: 93.05624999999999%\n",
      "950 번째 학습\n",
      "MSE : 0.07\n",
      "[[12010     6     3]\n",
      " [   15  2823   720]\n",
      " [   15  1459 14949]]\n",
      "Accuracy: 93.06875%\n",
      "1000 번째 학습\n",
      "MSE : 0.07\n",
      "[[12011     7     3]\n",
      " [   14  2821   721]\n",
      " [   15  1460 14948]]\n",
      "Accuracy: 93.0625%\n",
      "1050 번째 학습\n",
      "MSE : 0.07\n",
      "[[12010     7     2]\n",
      " [   14  2830   718]\n",
      " [   16  1451 14952]]\n",
      "Accuracy: 93.10000000000001%\n",
      "1100 번째 학습\n",
      "MSE : 0.07\n",
      "[[12010     6     2]\n",
      " [   14  2829   719]\n",
      " [   16  1453 14951]]\n",
      "Accuracy: 93.09375%\n",
      "1150 번째 학습\n",
      "MSE : 0.07\n",
      "[[12010     6     2]\n",
      " [   14  2826   719]\n",
      " [   16  1456 14951]]\n",
      "Accuracy: 93.084375%\n",
      "1200 번째 학습\n",
      "MSE : 0.07\n",
      "[[12010     7     2]\n",
      " [   14  2824   719]\n",
      " [   16  1457 14951]]\n",
      "Accuracy: 93.078125%\n",
      "1250 번째 학습\n",
      "MSE : 0.07\n",
      "[[12010     7     2]\n",
      " [   14  2829   721]\n",
      " [   16  1452 14949]]\n",
      "Accuracy: 93.0875%\n",
      "1300 번째 학습\n",
      "MSE : 0.07\n",
      "[[12010     6     2]\n",
      " [   14  2833   721]\n",
      " [   16  1449 14949]]\n",
      "Accuracy: 93.10000000000001%\n",
      "1350 번째 학습\n",
      "MSE : 0.07\n",
      "[[12010     6     2]\n",
      " [   14  2834   725]\n",
      " [   16  1448 14945]]\n",
      "Accuracy: 93.090625%\n",
      "1400 번째 학습\n"
     ]
    },
    {
     "ename": "KeyboardInterrupt",
     "evalue": "",
     "output_type": "error",
     "traceback": [
      "\u001b[1;31m---------------------------------------------------------------------------\u001b[0m",
      "\u001b[1;31mKeyboardInterrupt\u001b[0m                         Traceback (most recent call last)",
      "\u001b[1;32m<ipython-input-19-aeed85e35fd2>\u001b[0m in \u001b[0;36m<module>\u001b[1;34m\u001b[0m\n\u001b[0;32m      2\u001b[0m     \u001b[0mprint\u001b[0m\u001b[1;33m(\u001b[0m\u001b[0mi\u001b[0m\u001b[1;33m,\u001b[0m \u001b[1;34m\"번째 학습\"\u001b[0m\u001b[1;33m)\u001b[0m\u001b[1;33m\u001b[0m\u001b[1;33m\u001b[0m\u001b[0m\n\u001b[0;32m      3\u001b[0m     \u001b[0mmodel\u001b[0m \u001b[1;33m=\u001b[0m \u001b[0mxgb\u001b[0m\u001b[1;33m.\u001b[0m\u001b[0mXGBClassifier\u001b[0m\u001b[1;33m(\u001b[0m\u001b[0mmax_depth\u001b[0m \u001b[1;33m=\u001b[0m \u001b[1;36m14\u001b[0m\u001b[1;33m,\u001b[0m \u001b[0mn_estimators\u001b[0m\u001b[1;33m=\u001b[0m \u001b[0mi\u001b[0m\u001b[1;33m,\u001b[0m \u001b[0mlearning_rate\u001b[0m \u001b[1;33m=\u001b[0m \u001b[1;36m0.01\u001b[0m\u001b[1;33m)\u001b[0m\u001b[1;33m\u001b[0m\u001b[1;33m\u001b[0m\u001b[0m\n\u001b[1;32m----> 4\u001b[1;33m     \u001b[0mmodel\u001b[0m\u001b[1;33m.\u001b[0m\u001b[0mfit\u001b[0m\u001b[1;33m(\u001b[0m\u001b[0mX_Train\u001b[0m\u001b[1;33m,\u001b[0m \u001b[0my_train\u001b[0m\u001b[1;33m)\u001b[0m\u001b[1;33m\u001b[0m\u001b[1;33m\u001b[0m\u001b[0m\n\u001b[0m\u001b[0;32m      5\u001b[0m \u001b[1;33m\u001b[0m\u001b[0m\n\u001b[0;32m      6\u001b[0m     \u001b[1;31m# 예측 평가\u001b[0m\u001b[1;33m\u001b[0m\u001b[1;33m\u001b[0m\u001b[1;33m\u001b[0m\u001b[0m\n",
      "\u001b[1;32mc:\\users\\dku\\anaconda3\\envs\\crawling\\lib\\site-packages\\xgboost\\sklearn.py\u001b[0m in \u001b[0;36mfit\u001b[1;34m(self, X, y, sample_weight, base_margin, eval_set, eval_metric, early_stopping_rounds, verbose, xgb_model, sample_weight_eval_set, callbacks)\u001b[0m\n\u001b[0;32m    832\u001b[0m                               \u001b[0mevals_result\u001b[0m\u001b[1;33m=\u001b[0m\u001b[0mevals_result\u001b[0m\u001b[1;33m,\u001b[0m \u001b[0mobj\u001b[0m\u001b[1;33m=\u001b[0m\u001b[0mobj\u001b[0m\u001b[1;33m,\u001b[0m \u001b[0mfeval\u001b[0m\u001b[1;33m=\u001b[0m\u001b[0mfeval\u001b[0m\u001b[1;33m,\u001b[0m\u001b[1;33m\u001b[0m\u001b[1;33m\u001b[0m\u001b[0m\n\u001b[0;32m    833\u001b[0m                               \u001b[0mverbose_eval\u001b[0m\u001b[1;33m=\u001b[0m\u001b[0mverbose\u001b[0m\u001b[1;33m,\u001b[0m \u001b[0mxgb_model\u001b[0m\u001b[1;33m=\u001b[0m\u001b[0mxgb_model\u001b[0m\u001b[1;33m,\u001b[0m\u001b[1;33m\u001b[0m\u001b[1;33m\u001b[0m\u001b[0m\n\u001b[1;32m--> 834\u001b[1;33m                               callbacks=callbacks)\n\u001b[0m\u001b[0;32m    835\u001b[0m \u001b[1;33m\u001b[0m\u001b[0m\n\u001b[0;32m    836\u001b[0m         \u001b[0mself\u001b[0m\u001b[1;33m.\u001b[0m\u001b[0mobjective\u001b[0m \u001b[1;33m=\u001b[0m \u001b[0mxgb_options\u001b[0m\u001b[1;33m[\u001b[0m\u001b[1;34m\"objective\"\u001b[0m\u001b[1;33m]\u001b[0m\u001b[1;33m\u001b[0m\u001b[1;33m\u001b[0m\u001b[0m\n",
      "\u001b[1;32mc:\\users\\dku\\anaconda3\\envs\\crawling\\lib\\site-packages\\xgboost\\training.py\u001b[0m in \u001b[0;36mtrain\u001b[1;34m(params, dtrain, num_boost_round, evals, obj, feval, maximize, early_stopping_rounds, evals_result, verbose_eval, xgb_model, callbacks)\u001b[0m\n\u001b[0;32m    210\u001b[0m                            \u001b[0mevals\u001b[0m\u001b[1;33m=\u001b[0m\u001b[0mevals\u001b[0m\u001b[1;33m,\u001b[0m\u001b[1;33m\u001b[0m\u001b[1;33m\u001b[0m\u001b[0m\n\u001b[0;32m    211\u001b[0m                            \u001b[0mobj\u001b[0m\u001b[1;33m=\u001b[0m\u001b[0mobj\u001b[0m\u001b[1;33m,\u001b[0m \u001b[0mfeval\u001b[0m\u001b[1;33m=\u001b[0m\u001b[0mfeval\u001b[0m\u001b[1;33m,\u001b[0m\u001b[1;33m\u001b[0m\u001b[1;33m\u001b[0m\u001b[0m\n\u001b[1;32m--> 212\u001b[1;33m                            xgb_model=xgb_model, callbacks=callbacks)\n\u001b[0m\u001b[0;32m    213\u001b[0m \u001b[1;33m\u001b[0m\u001b[0m\n\u001b[0;32m    214\u001b[0m \u001b[1;33m\u001b[0m\u001b[0m\n",
      "\u001b[1;32mc:\\users\\dku\\anaconda3\\envs\\crawling\\lib\\site-packages\\xgboost\\training.py\u001b[0m in \u001b[0;36m_train_internal\u001b[1;34m(params, dtrain, num_boost_round, evals, obj, feval, xgb_model, callbacks)\u001b[0m\n\u001b[0;32m     73\u001b[0m         \u001b[1;31m# Skip the first update if it is a recovery step.\u001b[0m\u001b[1;33m\u001b[0m\u001b[1;33m\u001b[0m\u001b[1;33m\u001b[0m\u001b[0m\n\u001b[0;32m     74\u001b[0m         \u001b[1;32mif\u001b[0m \u001b[0mversion\u001b[0m \u001b[1;33m%\u001b[0m \u001b[1;36m2\u001b[0m \u001b[1;33m==\u001b[0m \u001b[1;36m0\u001b[0m\u001b[1;33m:\u001b[0m\u001b[1;33m\u001b[0m\u001b[1;33m\u001b[0m\u001b[0m\n\u001b[1;32m---> 75\u001b[1;33m             \u001b[0mbst\u001b[0m\u001b[1;33m.\u001b[0m\u001b[0mupdate\u001b[0m\u001b[1;33m(\u001b[0m\u001b[0mdtrain\u001b[0m\u001b[1;33m,\u001b[0m \u001b[0mi\u001b[0m\u001b[1;33m,\u001b[0m \u001b[0mobj\u001b[0m\u001b[1;33m)\u001b[0m\u001b[1;33m\u001b[0m\u001b[1;33m\u001b[0m\u001b[0m\n\u001b[0m\u001b[0;32m     76\u001b[0m             \u001b[0mbst\u001b[0m\u001b[1;33m.\u001b[0m\u001b[0msave_rabit_checkpoint\u001b[0m\u001b[1;33m(\u001b[0m\u001b[1;33m)\u001b[0m\u001b[1;33m\u001b[0m\u001b[1;33m\u001b[0m\u001b[0m\n\u001b[0;32m     77\u001b[0m             \u001b[0mversion\u001b[0m \u001b[1;33m+=\u001b[0m \u001b[1;36m1\u001b[0m\u001b[1;33m\u001b[0m\u001b[1;33m\u001b[0m\u001b[0m\n",
      "\u001b[1;32mc:\\users\\dku\\anaconda3\\envs\\crawling\\lib\\site-packages\\xgboost\\core.py\u001b[0m in \u001b[0;36mupdate\u001b[1;34m(self, dtrain, iteration, fobj)\u001b[0m\n\u001b[0;32m   1159\u001b[0m             _check_call(_LIB.XGBoosterUpdateOneIter(self.handle,\n\u001b[0;32m   1160\u001b[0m                                                     \u001b[0mctypes\u001b[0m\u001b[1;33m.\u001b[0m\u001b[0mc_int\u001b[0m\u001b[1;33m(\u001b[0m\u001b[0miteration\u001b[0m\u001b[1;33m)\u001b[0m\u001b[1;33m,\u001b[0m\u001b[1;33m\u001b[0m\u001b[1;33m\u001b[0m\u001b[0m\n\u001b[1;32m-> 1161\u001b[1;33m                                                     dtrain.handle))\n\u001b[0m\u001b[0;32m   1162\u001b[0m         \u001b[1;32melse\u001b[0m\u001b[1;33m:\u001b[0m\u001b[1;33m\u001b[0m\u001b[1;33m\u001b[0m\u001b[0m\n\u001b[0;32m   1163\u001b[0m             \u001b[0mpred\u001b[0m \u001b[1;33m=\u001b[0m \u001b[0mself\u001b[0m\u001b[1;33m.\u001b[0m\u001b[0mpredict\u001b[0m\u001b[1;33m(\u001b[0m\u001b[0mdtrain\u001b[0m\u001b[1;33m,\u001b[0m \u001b[0moutput_margin\u001b[0m\u001b[1;33m=\u001b[0m\u001b[1;32mTrue\u001b[0m\u001b[1;33m,\u001b[0m \u001b[0mtraining\u001b[0m\u001b[1;33m=\u001b[0m\u001b[1;32mTrue\u001b[0m\u001b[1;33m)\u001b[0m\u001b[1;33m\u001b[0m\u001b[1;33m\u001b[0m\u001b[0m\n",
      "\u001b[1;31mKeyboardInterrupt\u001b[0m: "
     ]
    }
   ],
   "source": [
    "for i in range(100, 2000, 50):\n",
    "    print(i, \"번째 학습\")\n",
    "    model = xgb.XGBClassifier(max_depth = 14, n_estimators= i, learning_rate = 0.01)\n",
    "    model.fit(X_Train, y_train)\n",
    "    \n",
    "    # 예측 평가\n",
    "    y_pred = model.predict(X_Test)\n",
    "    \n",
    "    # evaluate predictions\n",
    "    MSE = mean_squared_error(y_test, y_pred)\n",
    "    print('MSE : %.2f'%MSE)\n",
    "    # confusion matrix\n",
    "    CM = confusion_matrix(y_pred, y_test)\n",
    "    print(CM)\n",
    "    # accuracy\n",
    "    accuracy = accuracy_score(y_test, y_pred)\n",
    "    print(\"Accuracy: {}%\".format(accuracy * 100.0))"
   ]
  },
  {
   "cell_type": "markdown",
   "metadata": {},
   "source": [
    "# 아웃라이어 제거한 모델 학습"
   ]
  },
  {
   "cell_type": "code",
   "execution_count": null,
   "metadata": {},
   "outputs": [],
   "source": [
    "# 모델 평가를 위한 훈련데이터 Split\n",
    "seed = 0\n",
    "size = 0.1 # Testing size\n",
    "X1 = Train_copy1.drop(['class'], axis = 1)\n",
    "Y1 = Train_copy1['class']\n",
    "X_Train1, X_Test1, y_train1, y_test1 = train_test_split(X1, Y1, test_size = size, random_state = seed)  \n",
    "\n",
    "model1 = xgb.XGBClassifier(max_depth = 27, n_estimators= 1050, learning_rate = 0.01)\n",
    "model1.fit(X_Train1, y_train1)\n",
    "    \n",
    "    # 예측 평가\n",
    "y_pred1 = model1.predict(X_Test1)\n",
    "    \n",
    "    # evaluate predictions\n",
    "MSE = mean_squared_error(y_test1, y_pred1)\n",
    "print('MSE : %.2f'%MSE)\n",
    "    # confusion matrix\n",
    "CM = confusion_matrix(y_pred1, y_test1)\n",
    "print(CM)\n",
    "    # accuracy\n",
    "accuracy = accuracy_score(y_test1, y_pred1)\n",
    "print(\"Accuracy: {}%\".format(accuracy * 100.0))\n",
    "\n",
    "result1 = model1.predict(Test_set)\n",
    "Submission_set['class'] = result1\n",
    "Submission_set.to_csv(\"submission1.csv\", encoding='utf-8')"
   ]
  },
  {
   "cell_type": "code",
   "execution_count": null,
   "metadata": {},
   "outputs": [],
   "source": [
    "# 모델 평가를 위한 훈련데이터 Split\n",
    "\n",
    "model3 = xgb.XGBClassifier(max_depth = 27, n_estimators= 1050, learning_rate = 0.01)\n",
    "model3.fit(X1, Y1)\n",
    "    \n",
    "result3 = model3.predict(Test_set)\n",
    "Submission_set['class'] = result3\n",
    "Submission_set.to_csv(\"submission3.csv\", encoding='utf-8')"
   ]
  },
  {
   "cell_type": "markdown",
   "metadata": {},
   "source": [
    "# whole Data"
   ]
  },
  {
   "cell_type": "code",
   "execution_count": 39,
   "metadata": {},
   "outputs": [
    {
     "ename": "NameError",
     "evalue": "name 'result1' is not defined",
     "output_type": "error",
     "traceback": [
      "\u001b[1;31m---------------------------------------------------------------------------\u001b[0m",
      "\u001b[1;31mNameError\u001b[0m                                 Traceback (most recent call last)",
      "\u001b[1;32m<ipython-input-39-b8c5e427f003>\u001b[0m in \u001b[0;36m<module>\u001b[1;34m\u001b[0m\n\u001b[0;32m      3\u001b[0m \u001b[1;33m\u001b[0m\u001b[0m\n\u001b[0;32m      4\u001b[0m \u001b[0mresult2\u001b[0m \u001b[1;33m=\u001b[0m \u001b[0mmodel2\u001b[0m\u001b[1;33m.\u001b[0m\u001b[0mpredict\u001b[0m\u001b[1;33m(\u001b[0m\u001b[0mTest_set\u001b[0m\u001b[1;33m)\u001b[0m\u001b[1;33m\u001b[0m\u001b[1;33m\u001b[0m\u001b[0m\n\u001b[1;32m----> 5\u001b[1;33m \u001b[0mSubmission_set\u001b[0m\u001b[1;33m[\u001b[0m\u001b[1;34m'class'\u001b[0m\u001b[1;33m]\u001b[0m \u001b[1;33m=\u001b[0m \u001b[0mresult1\u001b[0m\u001b[1;33m\u001b[0m\u001b[1;33m\u001b[0m\u001b[0m\n\u001b[0m\u001b[0;32m      6\u001b[0m \u001b[0mSubmission_set\u001b[0m\u001b[1;33m.\u001b[0m\u001b[0mto_csv\u001b[0m\u001b[1;33m(\u001b[0m\u001b[1;34m\"submission1.csv\"\u001b[0m\u001b[1;33m,\u001b[0m \u001b[0mencoding\u001b[0m\u001b[1;33m=\u001b[0m\u001b[1;34m'utf-8'\u001b[0m\u001b[1;33m)\u001b[0m\u001b[1;33m\u001b[0m\u001b[1;33m\u001b[0m\u001b[0m\n",
      "\u001b[1;31mNameError\u001b[0m: name 'result1' is not defined"
     ]
    }
   ],
   "source": [
    "model2 = xgb.XGBClassifier(max_depth = 27, learning_rate = 0.01, n_estimators = 1050)\n",
    "model2.fit(X, Y)\n",
    "\n",
    "result2 = model2.predict(Test_set)\n",
    "Submission_set['class'] = result2\n",
    "Submission_set.to_csv(\"submission1.csv\", encoding='utf-8')"
   ]
  },
  {
   "cell_type": "code",
   "execution_count": 40,
   "metadata": {},
   "outputs": [],
   "source": []
  }
 ],
 "metadata": {
  "kernelspec": {
   "display_name": "Python 3",
   "language": "python",
   "name": "python3"
  },
  "language_info": {
   "codemirror_mode": {
    "name": "ipython",
    "version": 3
   },
   "file_extension": ".py",
   "mimetype": "text/x-python",
   "name": "python",
   "nbconvert_exporter": "python",
   "pygments_lexer": "ipython3",
   "version": "3.7.5"
  }
 },
 "nbformat": 4,
 "nbformat_minor": 2
}
